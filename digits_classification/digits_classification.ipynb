{
 "cells": [
  {
   "cell_type": "markdown",
   "id": "increasing-brunei",
   "metadata": {},
   "source": [
    "# About: Handwritten digits classification"
   ]
  },
  {
   "cell_type": "markdown",
   "id": "coral-showcase",
   "metadata": {},
   "source": [
    "The purpose of this project is to classify handwritten digits using MNIST dataset which contains $70000$ images of size $28\\times 28$ pixels, labeled from 0 to 9. We will use different techniques such as *Multivariate Regression, Linear Discriminant Analysis (LDA), Quadratic Discriminant Analysis (QDA)* and *Logistic Regression*."
   ]
  },
  {
   "cell_type": "code",
   "execution_count": 1,
   "id": "julian-athletics",
   "metadata": {
    "ExecuteTime": {
     "end_time": "2021-05-11T01:48:31.613067Z",
     "start_time": "2021-05-11T01:48:30.592589Z"
    }
   },
   "outputs": [],
   "source": [
    "import numpy as np\n",
    "from sklearn.datasets import fetch_openml\n",
    "import seaborn as sns\n",
    "from collections import Counter, OrderedDict\n",
    "import matplotlib.pyplot as plt\n",
    "from sklearn.model_selection import train_test_split\n",
    "from sklearn import linear_model, metrics\n",
    "import statsmodels.api as sm\n",
    "from sklearn.discriminant_analysis import LinearDiscriminantAnalysis, QuadraticDiscriminantAnalysis\n",
    "from sklearn.preprocessing import StandardScaler\n",
    "\n",
    "%matplotlib inline"
   ]
  },
  {
   "cell_type": "markdown",
   "id": "viral-neighbor",
   "metadata": {},
   "source": [
    "**Loading dataset:**"
   ]
  },
  {
   "cell_type": "code",
   "execution_count": 2,
   "id": "recovered-simulation",
   "metadata": {
    "ExecuteTime": {
     "end_time": "2021-05-11T01:49:00.891982Z",
     "start_time": "2021-05-11T01:48:31.615649Z"
    }
   },
   "outputs": [],
   "source": [
    "mnist = fetch_openml('mnist_784')"
   ]
  },
  {
   "cell_type": "code",
   "execution_count": 3,
   "id": "lucky-institution",
   "metadata": {
    "ExecuteTime": {
     "end_time": "2021-05-11T01:49:00.931775Z",
     "start_time": "2021-05-11T01:49:00.896225Z"
    }
   },
   "outputs": [
    {
     "data": {
      "text/plain": [
       "(70000, 784)"
      ]
     },
     "execution_count": 3,
     "metadata": {},
     "output_type": "execute_result"
    }
   ],
   "source": [
    "X = mnist.data\n",
    "y = [int(string_number) for string_number in mnist.target]\n",
    "target_names = mnist.target_names\n",
    "mnist.data.shape"
   ]
  },
  {
   "cell_type": "code",
   "execution_count": 4,
   "id": "massive-community",
   "metadata": {
    "ExecuteTime": {
     "end_time": "2021-05-11T01:49:01.370415Z",
     "start_time": "2021-05-11T01:49:00.935171Z"
    }
   },
   "outputs": [
    {
     "data": {
      "image/png": "[encoded data removed]",
      "text/plain": [
       "<Figure size 720x720 with 5 Axes>"
      ]
     },
     "metadata": {},
     "output_type": "display_data"
    }
   ],
   "source": [
    "fig = plt.figure(figsize=(10,10)) \n",
    "fig.subplots_adjust(left=0, right=1, bottom=0, top=1, hspace=0.05, wspace=0.05) \n",
    "# plot 5 random numbers\n",
    "j = 1\n",
    "np.random.seed(0)\n",
    "for i in np.random.choice(range(70000), 5): \n",
    "    ax = fig.add_subplot(1, 5, j, xticks=[], yticks=[]) \n",
    "    ax.imshow(np.reshape(X[i,:],(28,28)), cmap=plt.cm.gray, interpolation='nearest') \n",
    "    j += 1\n",
    "plt.show()"
   ]
  },
  {
   "cell_type": "markdown",
   "id": "assured-screening",
   "metadata": {
    "ExecuteTime": {
     "end_time": "2021-05-05T04:01:22.255388Z",
     "start_time": "2021-05-05T04:01:22.247122Z"
    }
   },
   "source": [
    "**Plotting number frequencies:**"
   ]
  },
  {
   "cell_type": "code",
   "execution_count": 5,
   "id": "objective-association",
   "metadata": {
    "ExecuteTime": {
     "end_time": "2021-05-11T01:49:01.719238Z",
     "start_time": "2021-05-11T01:49:01.373754Z"
    }
   },
   "outputs": [
    {
     "data": {
      "text/plain": [
       "([<matplotlib.axis.XTick at 0x7fb1279da700>,\n",
       "  <matplotlib.axis.XTick at 0x7fb1279da6d0>,\n",
       "  <matplotlib.axis.XTick at 0x7fb1279d7250>,\n",
       "  <matplotlib.axis.XTick at 0x7fb127c0fac0>,\n",
       "  <matplotlib.axis.XTick at 0x7fb127c0ffd0>,\n",
       "  <matplotlib.axis.XTick at 0x7fb127c1f520>,\n",
       "  <matplotlib.axis.XTick at 0x7fb1279f4910>,\n",
       "  <matplotlib.axis.XTick at 0x7fb127c1fa30>,\n",
       "  <matplotlib.axis.XTick at 0x7fb127c1ff40>,\n",
       "  <matplotlib.axis.XTick at 0x7fb127c25490>],\n",
       " [Text(0, 0, '5'),\n",
       "  Text(1, 0, '0'),\n",
       "  Text(2, 0, '4'),\n",
       "  Text(3, 0, '1'),\n",
       "  Text(4, 0, '9'),\n",
       "  Text(5, 0, '2'),\n",
       "  Text(6, 0, '3'),\n",
       "  Text(7, 0, '6'),\n",
       "  Text(8, 0, '7'),\n",
       "  Text(9, 0, '8')])"
      ]
     },
     "execution_count": 5,
     "metadata": {},
     "output_type": "execute_result"
    },
    {
     "data": {
      "image/png": "[encoded data removed]",
      "text/plain": [
       "<Figure size 432x288 with 1 Axes>"
      ]
     },
     "metadata": {},
     "output_type": "display_data"
    }
   ],
   "source": [
    "# counting frequencies\n",
    "target_numbers_count = Counter(y).items()\n",
    "target_numbers_count_dict = {}\n",
    "for key, value in target_numbers_count:\n",
    "    target_numbers_count_dict[key] = value\n",
    "\n",
    "\n",
    "    \n",
    "#plotting frequencies\n",
    "sns.set(style=\"darkgrid\")\n",
    "plt.bar(range(10), list(target_numbers_count_dict.values()), align='center')\n",
    "plt.xticks(range(10), list(target_numbers_count_dict.keys()))"
   ]
  },
  {
   "cell_type": "markdown",
   "id": "metric-slope",
   "metadata": {},
   "source": [
    "# Multivariate Regression baseline:"
   ]
  },
  {
   "cell_type": "markdown",
   "id": "silent-wedding",
   "metadata": {},
   "source": [
    "The baseline we will use is given by the multivariate linear model:\n",
    "$$Y=X\\hat{B},$$\n",
    "where $Y_{70000\\times 10}$ is an indicator matrix where each row has 0 excepting the value $y_k$ where we put 1.\n",
    "$X_{70000\\times 784}$ is the design matrix and $\\hat{B}$ is the matrix whose columns contain the 10 coefficients corresponding to $\\hat{\\beta_k}$. With this model, we assume a linear model for each response variable $y_k$:\n",
    "$$\\hat{y_k}=X\\hat{\\beta_k}.$$\n",
    "\n",
    "And the classification for an observation $x$ follows the next decision rule:\n",
    "$$\\hat{C}(x)=\\operatorname{argmax}_{k\\in K}\\hat{y_k}.$$"
   ]
  },
  {
   "cell_type": "markdown",
   "id": "scientific-china",
   "metadata": {
    "ExecuteTime": {
     "end_time": "2021-05-05T04:45:38.789182Z",
     "start_time": "2021-05-05T04:45:38.778252Z"
    }
   },
   "source": [
    "**Building Y matrix**"
   ]
  },
  {
   "cell_type": "code",
   "execution_count": 6,
   "id": "dated-return",
   "metadata": {
    "ExecuteTime": {
     "end_time": "2021-05-11T01:49:02.060721Z",
     "start_time": "2021-05-11T01:49:01.722523Z"
    }
   },
   "outputs": [
    {
     "data": {
      "text/plain": [
       "array([[0, 0, 0, 0, 0, 1, 0, 0, 0, 0],\n",
       "       [1, 0, 0, 0, 0, 0, 0, 0, 0, 0],\n",
       "       [0, 0, 0, 0, 1, 0, 0, 0, 0, 0],\n",
       "       [0, 1, 0, 0, 0, 0, 0, 0, 0, 0],\n",
       "       [0, 0, 0, 0, 0, 0, 0, 0, 0, 1],\n",
       "       [0, 0, 1, 0, 0, 0, 0, 0, 0, 0],\n",
       "       [0, 1, 0, 0, 0, 0, 0, 0, 0, 0],\n",
       "       [0, 0, 0, 1, 0, 0, 0, 0, 0, 0],\n",
       "       [0, 1, 0, 0, 0, 0, 0, 0, 0, 0],\n",
       "       [0, 0, 0, 0, 1, 0, 0, 0, 0, 0]])"
      ]
     },
     "execution_count": 6,
     "metadata": {},
     "output_type": "execute_result"
    }
   ],
   "source": [
    "def indicator(number):\n",
    "    '''\n",
    "    Return a vector which contains 1 in the index position \n",
    "    given by the number. Otherwise it'll be 0.\n",
    "    '''\n",
    "    indicator = [0 for _ in range(10)]\n",
    "    indicator[number] = 1\n",
    "    return indicator\n",
    "\n",
    "Y = map(indicator, y)\n",
    "Y = np.array(list(Y))\n",
    "Y[0:10] #showing the first 10 numbers"
   ]
  },
  {
   "cell_type": "markdown",
   "id": "breeding-modem",
   "metadata": {},
   "source": [
    "**Splitting in train-test datasets**"
   ]
  },
  {
   "cell_type": "code",
   "execution_count": 7,
   "id": "accessory-arabic",
   "metadata": {
    "ExecuteTime": {
     "end_time": "2021-05-11T01:49:03.588055Z",
     "start_time": "2021-05-11T01:49:02.064519Z"
    }
   },
   "outputs": [],
   "source": [
    "X_train, X_test, y_train, y_test, Y_train, Y_test = train_test_split(X, y, Y,\n",
    "                                                                     test_size = 0.2,\n",
    "                                                                     random_state = 42)"
   ]
  },
  {
   "cell_type": "markdown",
   "id": "adopted-effectiveness",
   "metadata": {},
   "source": [
    "**Fitting a linear model to train dataset**"
   ]
  },
  {
   "cell_type": "code",
   "execution_count": 8,
   "id": "smaller-wyoming",
   "metadata": {
    "ExecuteTime": {
     "end_time": "2021-05-11T01:49:18.023484Z",
     "start_time": "2021-05-11T01:49:03.593079Z"
    }
   },
   "outputs": [],
   "source": [
    "reg = linear_model.LinearRegression()\n",
    "linear_regression_model = reg.fit(X_train,Y_train)"
   ]
  },
  {
   "cell_type": "markdown",
   "id": "legitimate-veteran",
   "metadata": {},
   "source": [
    "**Classifying using the rule decision**"
   ]
  },
  {
   "cell_type": "code",
   "execution_count": 9,
   "id": "grand-genre",
   "metadata": {
    "ExecuteTime": {
     "end_time": "2021-05-11T01:49:18.130266Z",
     "start_time": "2021-05-11T01:49:18.027501Z"
    }
   },
   "outputs": [
    {
     "data": {
      "text/plain": [
       "[8, 4, 6, 7, 7]"
      ]
     },
     "execution_count": 9,
     "metadata": {},
     "output_type": "execute_result"
    }
   ],
   "source": [
    "Y_hat_test = linear_regression_model.predict(X_test)\n",
    "C_multivariate = map(np.argmax, Y_hat_test)  # classification vector\n",
    "C_multivariate = list(C_multivariate)\n",
    "C_multivariate[:5]"
   ]
  },
  {
   "cell_type": "markdown",
   "id": "respected-director",
   "metadata": {},
   "source": [
    "**Comparing predictions vs real values**"
   ]
  },
  {
   "cell_type": "code",
   "execution_count": 10,
   "id": "spectacular-austria",
   "metadata": {
    "ExecuteTime": {
     "end_time": "2021-05-11T01:49:18.155193Z",
     "start_time": "2021-05-11T01:49:18.132944Z"
    }
   },
   "outputs": [
    {
     "data": {
      "text/plain": [
       "11955"
      ]
     },
     "execution_count": 10,
     "metadata": {},
     "output_type": "execute_result"
    }
   ],
   "source": [
    "differences = np.array(C_multivariate) - np.array(y_test)\n",
    "diff_freq = Counter(differences)\n",
    "correct_predictions_count = diff_freq[0]\n",
    "correct_predictions_count"
   ]
  },
  {
   "cell_type": "markdown",
   "id": "missing-nurse",
   "metadata": {},
   "source": [
    "**proportion of correct predictions with multivariate regression (Accuracy)**"
   ]
  },
  {
   "cell_type": "code",
   "execution_count": 11,
   "id": "agricultural-guess",
   "metadata": {
    "ExecuteTime": {
     "end_time": "2021-05-11T01:49:18.171300Z",
     "start_time": "2021-05-11T01:49:18.157778Z"
    }
   },
   "outputs": [
    {
     "data": {
      "text/plain": [
       "0.8539285714285715"
      ]
     },
     "execution_count": 11,
     "metadata": {},
     "output_type": "execute_result"
    }
   ],
   "source": [
    "accuracy_multivariate = correct_predictions_count/len(y_test)\n",
    "accuracy_multivariate"
   ]
  },
  {
   "cell_type": "markdown",
   "id": "certified-rental",
   "metadata": {},
   "source": [
    "**Measuring distinct errors**"
   ]
  },
  {
   "cell_type": "code",
   "execution_count": 12,
   "id": "processed-berry",
   "metadata": {
    "ExecuteTime": {
     "end_time": "2021-05-11T01:49:18.255793Z",
     "start_time": "2021-05-11T01:49:18.175361Z"
    }
   },
   "outputs": [
    {
     "name": "stdout",
     "output_type": "stream",
     "text": [
      "              precision    recall  f1-score   support\n",
      "\n",
      "           0      0.901     0.953     0.927      1343\n",
      "           1      0.809     0.971     0.883      1600\n",
      "           2      0.903     0.793     0.844      1380\n",
      "           3      0.825     0.841     0.833      1433\n",
      "           4      0.819     0.886     0.851      1295\n",
      "           5      0.876     0.734     0.799      1273\n",
      "           6      0.893     0.925     0.909      1396\n",
      "           7      0.869     0.862     0.866      1503\n",
      "           8      0.842     0.741     0.788      1357\n",
      "           9      0.827     0.807     0.817      1420\n",
      "\n",
      "    accuracy                          0.854     14000\n",
      "   macro avg      0.856     0.851     0.852     14000\n",
      "weighted avg      0.856     0.854     0.852     14000\n",
      "\n"
     ]
    }
   ],
   "source": [
    "print(metrics.classification_report(y_test, C_multivariate, digits=3))"
   ]
  },
  {
   "cell_type": "markdown",
   "id": "suburban-northern",
   "metadata": {},
   "source": [
    "# Linear Discriminant Analysis (LDA)"
   ]
  },
  {
   "cell_type": "code",
   "execution_count": 13,
   "id": "polyphonic-excess",
   "metadata": {
    "ExecuteTime": {
     "end_time": "2021-05-11T01:49:43.843807Z",
     "start_time": "2021-05-11T01:49:18.258399Z"
    }
   },
   "outputs": [],
   "source": [
    "lda = LinearDiscriminantAnalysis()\n",
    "lda_model = lda.fit(X_train, y_train)"
   ]
  },
  {
   "cell_type": "code",
   "execution_count": 14,
   "id": "jewish-perception",
   "metadata": {
    "ExecuteTime": {
     "end_time": "2021-05-11T01:49:43.943833Z",
     "start_time": "2021-05-11T01:49:43.870245Z"
    }
   },
   "outputs": [
    {
     "data": {
      "text/plain": [
       "array([8, 4, 5, ..., 2, 7, 1])"
      ]
     },
     "execution_count": 14,
     "metadata": {},
     "output_type": "execute_result"
    }
   ],
   "source": [
    "lda_predict = lda_model.predict(X_test)\n",
    "lda_predict"
   ]
  },
  {
   "cell_type": "markdown",
   "id": "attractive-music",
   "metadata": {
    "ExecuteTime": {
     "end_time": "2021-05-06T04:43:44.702182Z",
     "start_time": "2021-05-06T04:43:44.696765Z"
    }
   },
   "source": [
    "**Measuring distinct errors:**"
   ]
  },
  {
   "cell_type": "code",
   "execution_count": 15,
   "id": "fixed-russell",
   "metadata": {
    "ExecuteTime": {
     "end_time": "2021-05-11T01:49:44.026910Z",
     "start_time": "2021-05-11T01:49:43.950981Z"
    }
   },
   "outputs": [
    {
     "name": "stdout",
     "output_type": "stream",
     "text": [
      "              precision    recall  f1-score   support\n",
      "\n",
      "           0      0.955     0.939     0.947      1343\n",
      "           1      0.865     0.958     0.909      1600\n",
      "           2      0.902     0.809     0.853      1380\n",
      "           3      0.851     0.839     0.845      1433\n",
      "           4      0.842     0.893     0.867      1295\n",
      "           5      0.819     0.816     0.817      1273\n",
      "           6      0.930     0.910     0.920      1396\n",
      "           7      0.919     0.845     0.880      1503\n",
      "           8      0.808     0.789     0.798      1357\n",
      "           9      0.798     0.865     0.830      1420\n",
      "\n",
      "    accuracy                          0.868     14000\n",
      "   macro avg      0.869     0.866     0.867     14000\n",
      "weighted avg      0.869     0.868     0.868     14000\n",
      "\n"
     ]
    }
   ],
   "source": [
    "print(metrics.classification_report(y_test, lda_predict, digits=3))"
   ]
  },
  {
   "cell_type": "markdown",
   "id": "acting-overhead",
   "metadata": {},
   "source": [
    "# Quadratic Discriminant Analysis (QDA)"
   ]
  },
  {
   "cell_type": "code",
   "execution_count": 16,
   "id": "mounted-constant",
   "metadata": {
    "ExecuteTime": {
     "end_time": "2021-05-11T01:50:07.272357Z",
     "start_time": "2021-05-11T01:49:44.029991Z"
    }
   },
   "outputs": [
    {
     "name": "stderr",
     "output_type": "stream",
     "text": [
      "/home/ed4st/anaconda3/envs/DS/lib/python3.8/site-packages/sklearn/discriminant_analysis.py:715: UserWarning: Variables are collinear\n",
      "  warnings.warn(\"Variables are collinear\")\n"
     ]
    }
   ],
   "source": [
    "qda = QuadraticDiscriminantAnalysis()\n",
    "qda_model = qda.fit(X_train, y_train)"
   ]
  },
  {
   "cell_type": "code",
   "execution_count": 17,
   "id": "increasing-director",
   "metadata": {
    "ExecuteTime": {
     "end_time": "2021-05-11T01:50:16.094785Z",
     "start_time": "2021-05-11T01:50:07.275732Z"
    }
   },
   "outputs": [
    {
     "data": {
      "text/plain": [
       "array([8, 9, 8, ..., 1, 9, 1])"
      ]
     },
     "execution_count": 17,
     "metadata": {},
     "output_type": "execute_result"
    }
   ],
   "source": [
    "qda_predict = qda_model.predict(X_test)\n",
    "qda_predict"
   ]
  },
  {
   "cell_type": "markdown",
   "id": "hungarian-chemical",
   "metadata": {
    "ExecuteTime": {
     "end_time": "2021-05-06T04:43:44.702182Z",
     "start_time": "2021-05-06T04:43:44.696765Z"
    }
   },
   "source": [
    "**Measuring distinct errors:**"
   ]
  },
  {
   "cell_type": "code",
   "execution_count": 18,
   "id": "institutional-choice",
   "metadata": {
    "ExecuteTime": {
     "end_time": "2021-05-11T01:50:16.191547Z",
     "start_time": "2021-05-11T01:50:16.100762Z"
    }
   },
   "outputs": [
    {
     "name": "stdout",
     "output_type": "stream",
     "text": [
      "              precision    recall  f1-score   support\n",
      "\n",
      "           0      0.287     0.972     0.444      1343\n",
      "           1      0.877     0.948     0.911      1600\n",
      "           2      0.860     0.213     0.341      1380\n",
      "           3      0.653     0.270     0.382      1433\n",
      "           4      0.802     0.066     0.121      1295\n",
      "           5      0.922     0.075     0.138      1273\n",
      "           6      0.757     0.946     0.841      1396\n",
      "           7      0.926     0.283     0.434      1503\n",
      "           8      0.498     0.458     0.477      1357\n",
      "           9      0.430     0.950     0.592      1420\n",
      "\n",
      "    accuracy                          0.529     14000\n",
      "   macro avg      0.701     0.518     0.468     14000\n",
      "weighted avg      0.704     0.529     0.480     14000\n",
      "\n"
     ]
    }
   ],
   "source": [
    "print(metrics.classification_report(y_test, qda_predict, digits=3))"
   ]
  },
  {
   "cell_type": "markdown",
   "id": "communist-honduras",
   "metadata": {},
   "source": [
    "# Logistic Regression"
   ]
  },
  {
   "cell_type": "code",
   "execution_count": 19,
   "id": "dangerous-premium",
   "metadata": {
    "ExecuteTime": {
     "end_time": "2021-05-11T01:55:34.627162Z",
     "start_time": "2021-05-11T01:50:16.197307Z"
    }
   },
   "outputs": [
    {
     "name": "stderr",
     "output_type": "stream",
     "text": [
      "/home/ed4st/anaconda3/envs/DS/lib/python3.8/site-packages/sklearn/linear_model/_sag.py:329: ConvergenceWarning: The max_iter was reached which means the coef_ did not converge\n",
      "  warnings.warn(\"The max_iter was reached which means \"\n"
     ]
    }
   ],
   "source": [
    "log_reg = linear_model.LogisticRegression(solver = 'sag', n_jobs=-1, max_iter=100, multi_class=\"multinomial\")\n",
    "logistic_model =  log_reg.fit(X_train, y_train)"
   ]
  },
  {
   "cell_type": "code",
   "execution_count": 20,
   "id": "activated-carol",
   "metadata": {
    "ExecuteTime": {
     "end_time": "2021-05-11T01:55:34.668878Z",
     "start_time": "2021-05-11T01:55:34.630104Z"
    }
   },
   "outputs": [
    {
     "data": {
      "text/plain": [
       "array([8, 4, 5, ..., 2, 7, 1])"
      ]
     },
     "execution_count": 20,
     "metadata": {},
     "output_type": "execute_result"
    }
   ],
   "source": [
    "logistic_predict = logistic_model.predict(X_test)\n",
    "logistic_predict "
   ]
  },
  {
   "cell_type": "markdown",
   "id": "square-agenda",
   "metadata": {
    "ExecuteTime": {
     "end_time": "2021-05-06T04:43:44.702182Z",
     "start_time": "2021-05-06T04:43:44.696765Z"
    }
   },
   "source": [
    "**Measuring distinct errors:**"
   ]
  },
  {
   "cell_type": "code",
   "execution_count": 21,
   "id": "given-accident",
   "metadata": {
    "ExecuteTime": {
     "end_time": "2021-05-11T01:55:34.741729Z",
     "start_time": "2021-05-11T01:55:34.672028Z"
    }
   },
   "outputs": [
    {
     "name": "stdout",
     "output_type": "stream",
     "text": [
      "              precision    recall  f1-score   support\n",
      "\n",
      "           0      0.957     0.960     0.958      1343\n",
      "           1      0.955     0.971     0.963      1600\n",
      "           2      0.906     0.891     0.899      1380\n",
      "           3      0.896     0.900     0.898      1433\n",
      "           4      0.919     0.921     0.920      1295\n",
      "           5      0.891     0.863     0.876      1273\n",
      "           6      0.935     0.951     0.943      1396\n",
      "           7      0.933     0.937     0.935      1503\n",
      "           8      0.886     0.873     0.879      1357\n",
      "           9      0.899     0.906     0.902      1420\n",
      "\n",
      "    accuracy                          0.919     14000\n",
      "   macro avg      0.918     0.917     0.917     14000\n",
      "weighted avg      0.918     0.919     0.918     14000\n",
      "\n"
     ]
    }
   ],
   "source": [
    "print(metrics.classification_report(y_test, logistic_predict, digits=3))"
   ]
  },
  {
   "cell_type": "markdown",
   "id": "clear-photography",
   "metadata": {},
   "source": [
    "# Applet for prediction"
   ]
  },
  {
   "cell_type": "code",
   "execution_count": 22,
   "id": "fabulous-fifteen",
   "metadata": {
    "ExecuteTime": {
     "end_time": "2021-05-11T01:55:34.751309Z",
     "start_time": "2021-05-11T01:55:34.746054Z"
    }
   },
   "outputs": [],
   "source": [
    "fitted_models = [linear_regression_model, lda_model, qda_model, lda_model]"
   ]
  },
  {
   "cell_type": "code",
   "execution_count": null,
   "id": "adult-boost",
   "metadata": {
    "ExecuteTime": {
     "start_time": "2021-05-11T01:48:31.454Z"
    }
   },
   "outputs": [],
   "source": [
    "from tkinter import *\n",
    "from digitsTab import Predict\n",
    "# ejecutamos el applet\n",
    "root = Tk()\n",
    "root.geometry(\"400x400\")\n",
    "root.resizable(0, 0)\n",
    "app = Predict(root, fitted_models)\n",
    "root.mainloop()"
   ]
  },
  {
   "cell_type": "code",
   "execution_count": null,
   "id": "noted-origin",
   "metadata": {},
   "outputs": [],
   "source": []
  }
 ],
 "metadata": {
  "kernelspec": {
   "display_name": "Python (DS)",
   "language": "python",
   "name": "ds"
  },
  "language_info": {
   "codemirror_mode": {
    "name": "ipython",
    "version": 3
   },
   "file_extension": ".py",
   "mimetype": "text/x-python",
   "name": "python",
   "nbconvert_exporter": "python",
   "pygments_lexer": "ipython3",
   "version": "3.8.5"
  },
  "latex_envs": {
   "LaTeX_envs_menu_present": true,
   "autoclose": false,
   "autocomplete": true,
   "bibliofile": "biblio.bib",
   "cite_by": "apalike",
   "current_citInitial": 1,
   "eqLabelWithNumbers": true,
   "eqNumInitial": 1,
   "hotkeys": {
    "equation": "Ctrl-E",
    "itemize": "Ctrl-I"
   },
   "labels_anchors": false,
   "latex_user_defs": false,
   "report_style_numbering": false,
   "user_envs_cfg": false
  },
  "toc": {
   "base_numbering": 1,
   "nav_menu": {},
   "number_sections": true,
   "sideBar": true,
   "skip_h1_title": false,
   "title_cell": "Table of Contents",
   "title_sidebar": "Contents",
   "toc_cell": false,
   "toc_position": {},
   "toc_section_display": true,
   "toc_window_display": false
  }
 },
 "nbformat": 4,
 "nbformat_minor": 5
}
