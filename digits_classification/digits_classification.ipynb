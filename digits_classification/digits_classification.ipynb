{
  "nbformat": 4,
  "nbformat_minor": 5,
  "metadata": {
    "colab": {
      "name": "digits_classification.ipynb",
      "provenance": [],
      "collapsed_sections": [
        "suburban-northern",
        "alike-blond",
        "acting-overhead",
        "communist-honduras",
        "clear-photography",
        "random-driving",
        "alone-emperor",
        "ujwyjsbd5Pk0",
        "-C2jnfO1F2ty",
        "J43RoWleG_op"
      ]
    },
    "kernelspec": {
      "display_name": "Python (DS)",
      "language": "python",
      "name": "ds"
    },
    "language_info": {
      "codemirror_mode": {
        "name": "ipython",
        "version": 3
      },
      "file_extension": ".py",
      "mimetype": "text/x-python",
      "name": "python",
      "nbconvert_exporter": "python",
      "pygments_lexer": "ipython3",
      "version": "3.8.5"
    },
    "latex_envs": {
      "LaTeX_envs_menu_present": true,
      "autoclose": false,
      "autocomplete": true,
      "bibliofile": "biblio.bib",
      "cite_by": "apalike",
      "current_citInitial": 1,
      "eqLabelWithNumbers": true,
      "eqNumInitial": 1,
      "hotkeys": {
        "equation": "Ctrl-E",
        "itemize": "Ctrl-I"
      },
      "labels_anchors": false,
      "latex_user_defs": false,
      "report_style_numbering": false,
      "user_envs_cfg": false
    },
    "toc": {
      "base_numbering": 1,
      "nav_menu": {},
      "number_sections": true,
      "sideBar": true,
      "skip_h1_title": false,
      "title_cell": "Table of Contents",
      "title_sidebar": "Contents",
      "toc_cell": false,
      "toc_position": {},
      "toc_section_display": true,
      "toc_window_display": false
    }
  },
  "cells": [
    {
      "cell_type": "markdown",
      "metadata": {
        "id": "increasing-brunei"
      },
      "source": [
        "# About: Handwritten digits classification"
      ],
      "id": "increasing-brunei"
    },
    {
      "cell_type": "markdown",
      "metadata": {
        "id": "coral-showcase"
      },
      "source": [
        "The purpose of this project is to classify handwritten digits using MNIST dataset which contains $70000$ images of size $28\\times 28$ pixels, labeled from 0 to 9. We will use different techniques such as *Multivariate Regression, Linear Discriminant Analysis (LDA), Quadratic Discriminant Analysis (QDA)* , *Logistic Regression, Neural Networks, Support Vector Machines, Decision Trees and Boosting.*"
      ],
      "id": "coral-showcase"
    },
    {
      "cell_type": "code",
      "metadata": {
        "id": "julian-athletics",
        "colab": {
          "base_uri": "https://localhost:8080/"
        },
        "outputId": "a0f56dac-e8a0-4ca8-cf0d-1d02d0267ee3"
      },
      "source": [
        "import numpy as np\n",
        "from sklearn.datasets import fetch_openml\n",
        "import seaborn as sns\n",
        "from collections import Counter, OrderedDict\n",
        "import matplotlib.pyplot as plt\n",
        "import matplotlib.pylab as pylab\n",
        "from sklearn import linear_model, metrics\n",
        "import statsmodels.api as sm\n",
        "from sklearn.discriminant_analysis import LinearDiscriminantAnalysis, QuadraticDiscriminantAnalysis\n",
        "from sklearn.preprocessing import StandardScaler\n",
        "from sklearn.svm import SVC # Support vector classifier\n",
        "from sklearn.decomposition import PCA\n",
        "from sklearn.model_selection import cross_val_score, train_test_split, KFold, StratifiedKFold, GridSearchCV\n",
        "from sklearn.neural_network import MLPClassifier\n",
        "from sklearn import tree\n",
        "from sklearn.tree import DecisionTreeClassifier\n",
        "from sklearn.ensemble import AdaBoostClassifier\n",
        "\n",
        "\n",
        "%matplotlib inline"
      ],
      "id": "julian-athletics",
      "execution_count": null,
      "outputs": [
        {
          "output_type": "stream",
          "text": [
            "/usr/local/lib/python3.7/dist-packages/statsmodels/tools/_testing.py:19: FutureWarning: pandas.util.testing is deprecated. Use the functions in the public API at pandas.testing instead.\n",
            "  import pandas.util.testing as tm\n"
          ],
          "name": "stderr"
        }
      ]
    },
    {
      "cell_type": "markdown",
      "metadata": {
        "id": "viral-neighbor"
      },
      "source": [
        "**Loading dataset:**"
      ],
      "id": "viral-neighbor"
    },
    {
      "cell_type": "code",
      "metadata": {
        "id": "recovered-simulation"
      },
      "source": [
        "mnist = fetch_openml('mnist_784')"
      ],
      "id": "recovered-simulation",
      "execution_count": null,
      "outputs": []
    },
    {
      "cell_type": "code",
      "metadata": {
        "colab": {
          "base_uri": "https://localhost:8080/"
        },
        "id": "lucky-institution",
        "outputId": "efdabdd6-2431-401a-b12c-82432523b64e"
      },
      "source": [
        "X = mnist.data\n",
        "y = [int(string_number) for string_number in mnist.target]\n",
        "target_names = mnist.target_names\n",
        "mnist.data.shape"
      ],
      "id": "lucky-institution",
      "execution_count": null,
      "outputs": [
        {
          "output_type": "execute_result",
          "data": {
            "text/plain": [
              "(70000, 784)"
            ]
          },
          "metadata": {
            "tags": []
          },
          "execution_count": 4
        }
      ]
    },
    {
      "cell_type": "code",
      "metadata": {
        "id": "yc4Jl3MRRq39"
      },
      "source": [
        "#reducing dimension of data:\n",
        "pca = PCA(n_components=45)\n",
        "X_pca = pca.fit_transform(X)\n",
        "\n",
        "\n",
        "X_train_pca, X_test_pca, y_train, y_test = train_test_split(X_pca, y,\n",
        "                                                                     test_size = 0.25,\n",
        "                                                                     random_state = 42)"
      ],
      "id": "yc4Jl3MRRq39",
      "execution_count": null,
      "outputs": []
    },
    {
      "cell_type": "code",
      "metadata": {
        "colab": {
          "base_uri": "https://localhost:8080/"
        },
        "id": "qh21aPyeSfK7",
        "outputId": "b1db1149-5956-4e91-b717-4b1f8f35a7b6"
      },
      "source": [
        "sum(pca.explained_variance_ratio_)"
      ],
      "id": "qh21aPyeSfK7",
      "execution_count": null,
      "outputs": [
        {
          "output_type": "execute_result",
          "data": {
            "text/plain": [
              "0.8079341174385369"
            ]
          },
          "metadata": {
            "tags": []
          },
          "execution_count": 8
        }
      ]
    },
    {
      "cell_type": "code",
      "metadata": {
        "colab": {
          "base_uri": "https://localhost:8080/",
          "height": 173
        },
        "id": "massive-community",
        "outputId": "67e88269-09b5-423e-9d16-eb844d1b8e6a"
      },
      "source": [
        "fig = plt.figure(figsize=(10,10)) \n",
        "fig.subplots_adjust(left=0, right=1, bottom=0, top=1, hspace=0.05, wspace=0.05) \n",
        "# plot 5 random numbers\n",
        "j = 1\n",
        "np.random.seed(0)\n",
        "for i in np.random.choice(range(70000), 5): \n",
        "    ax = fig.add_subplot(1, 5, j, xticks=[], yticks=[]) \n",
        "    ax.imshow(np.reshape(X[i,:],(28,28)), cmap=plt.cm.gray, interpolation='nearest') \n",
        "    j += 1\n",
        "plt.show()"
      ],
      "id": "massive-community",
      "execution_count": null,
      "outputs": [
        {
          "output_type": "display_data",
          "data": {
            "image/png": "[encoded data removed]",
            "text/plain": [
              "<Figure size 720x720 with 5 Axes>"
            ]
          },
          "metadata": {
            "tags": []
          }
        }
      ]
    },
    {
      "cell_type": "markdown",
      "metadata": {
        "id": "assured-screening"
      },
      "source": [
        "**Plotting number frequencies:**"
      ],
      "id": "assured-screening"
    },
    {
      "cell_type": "code",
      "metadata": {
        "id": "objective-association",
        "colab": {
          "base_uri": "https://localhost:8080/",
          "height": 608
        },
        "outputId": "da8e1365-205c-4b96-9039-c97105771816"
      },
      "source": [
        "# counting frequencies\n",
        "target_numbers_count = Counter(y).items()\n",
        "target_numbers_count_dict = {}\n",
        "for key, value in target_numbers_count:\n",
        "    target_numbers_count_dict[key] = value\n",
        "\n",
        "\n",
        "    \n",
        "#plotting frequencies\n",
        "sns.set(style=\"darkgrid\")\n",
        "plt.bar(range(10), list(target_numbers_count_dict.values()), align='center')\n",
        "plt.xticks(range(10), list(target_numbers_count_dict.keys()))"
      ],
      "id": "objective-association",
      "execution_count": null,
      "outputs": [
        {
          "output_type": "execute_result",
          "data": {
            "text/plain": [
              "([<matplotlib.axis.XTick at 0x7f6a004bdb50>,\n",
              "  <matplotlib.axis.XTick at 0x7f6a00554850>,\n",
              "  <matplotlib.axis.XTick at 0x7f6a005500d0>,\n",
              "  <matplotlib.axis.XTick at 0x7f6a0053f7d0>,\n",
              "  <matplotlib.axis.XTick at 0x7f6a0053f190>,\n",
              "  <matplotlib.axis.XTick at 0x7f6a0053cb10>,\n",
              "  <matplotlib.axis.XTick at 0x7f6a0053c450>,\n",
              "  <matplotlib.axis.XTick at 0x7f6a0053ce50>,\n",
              "  <matplotlib.axis.XTick at 0x7f6a0053ac50>,\n",
              "  <matplotlib.axis.XTick at 0x7f6a0053a690>],\n",
              " [Text(0, 0, '5'),\n",
              "  Text(0, 0, '0'),\n",
              "  Text(0, 0, '4'),\n",
              "  Text(0, 0, '1'),\n",
              "  Text(0, 0, '9'),\n",
              "  Text(0, 0, '2'),\n",
              "  Text(0, 0, '3'),\n",
              "  Text(0, 0, '6'),\n",
              "  Text(0, 0, '7'),\n",
              "  Text(0, 0, '8')])"
            ]
          },
          "metadata": {
            "tags": []
          },
          "execution_count": 5
        },
        {
          "output_type": "display_data",
          "data": {
            "image/png": "[encoded data removed]",
            "text/plain": [
              "<Figure size 432x288 with 1 Axes>"
            ]
          },
          "metadata": {
            "tags": []
          }
        }
      ]
    },
    {
      "cell_type": "markdown",
      "metadata": {
        "id": "metric-slope"
      },
      "source": [
        "# Multivariate Regression baseline:"
      ],
      "id": "metric-slope"
    },
    {
      "cell_type": "markdown",
      "metadata": {
        "id": "silent-wedding"
      },
      "source": [
        "The baseline we will use is given by the multivariate linear model:\n",
        "$$Y=X\\hat{B},$$\n",
        "where $Y_{70000\\times 10}$ is an indicator matrix where each row has 0 excepting the value $y_k$ where we put 1.\n",
        "$X_{70000\\times 784}$ is the design matrix and $\\hat{B}$ is the matrix whose columns contain the 10 coefficients corresponding to $\\hat{\\beta_k}$. With this model, we assume a linear model for each response variable $y_k$:\n",
        "$$\\hat{y_k}=X\\hat{\\beta_k}.$$\n",
        "\n",
        "And the classification for an observation $x$ follows the next decision rule:\n",
        "$$\\hat{C}(x)=\\operatorname{argmax}_{k\\in K}\\hat{y_k}.$$"
      ],
      "id": "silent-wedding"
    },
    {
      "cell_type": "markdown",
      "metadata": {
        "id": "scientific-china"
      },
      "source": [
        "**Building Y matrix**"
      ],
      "id": "scientific-china"
    },
    {
      "cell_type": "code",
      "metadata": {
        "id": "dated-return",
        "outputId": "4d92656b-c27b-4ef9-f8eb-0dfbbe4f9c02"
      },
      "source": [
        "def indicator(number):\n",
        "    '''\n",
        "    Return a vector which contains 1 in the index position \n",
        "    given by the number. Otherwise it'll be 0.\n",
        "    '''\n",
        "    indicator = [0 for _ in range(10)]\n",
        "    indicator[number] = 1\n",
        "    return indicator\n",
        "\n",
        "Y = map(indicator, y)\n",
        "Y = np.array(list(Y))\n",
        "Y[0:10] #showing the first 10 numbers"
      ],
      "id": "dated-return",
      "execution_count": null,
      "outputs": [
        {
          "output_type": "execute_result",
          "data": {
            "text/plain": [
              "array([[0, 0, 0, 0, 0, 1, 0, 0, 0, 0],\n",
              "       [1, 0, 0, 0, 0, 0, 0, 0, 0, 0],\n",
              "       [0, 0, 0, 0, 1, 0, 0, 0, 0, 0],\n",
              "       [0, 1, 0, 0, 0, 0, 0, 0, 0, 0],\n",
              "       [0, 0, 0, 0, 0, 0, 0, 0, 0, 1],\n",
              "       [0, 0, 1, 0, 0, 0, 0, 0, 0, 0],\n",
              "       [0, 1, 0, 0, 0, 0, 0, 0, 0, 0],\n",
              "       [0, 0, 0, 1, 0, 0, 0, 0, 0, 0],\n",
              "       [0, 1, 0, 0, 0, 0, 0, 0, 0, 0],\n",
              "       [0, 0, 0, 0, 1, 0, 0, 0, 0, 0]])"
            ]
          },
          "metadata": {
            "tags": []
          },
          "execution_count": 8
        }
      ]
    },
    {
      "cell_type": "markdown",
      "metadata": {
        "id": "breeding-modem"
      },
      "source": [
        "**Splitting in train-test datasets**"
      ],
      "id": "breeding-modem"
    },
    {
      "cell_type": "code",
      "metadata": {
        "id": "accessory-arabic"
      },
      "source": [
        "X_train, X_test, y_train, y_test, Y_train, Y_test = train_test_split(X, y, Y,\n",
        "                                                                     test_size = 0.2,\n",
        "                                                                     random_state = 42)"
      ],
      "id": "accessory-arabic",
      "execution_count": null,
      "outputs": []
    },
    {
      "cell_type": "markdown",
      "metadata": {
        "id": "adopted-effectiveness"
      },
      "source": [
        "**Fitting a linear model to train dataset**"
      ],
      "id": "adopted-effectiveness"
    },
    {
      "cell_type": "code",
      "metadata": {
        "id": "smaller-wyoming"
      },
      "source": [
        "reg = linear_model.LinearRegression()\n",
        "linear_regression_model = reg.fit(X_train,Y_train)"
      ],
      "id": "smaller-wyoming",
      "execution_count": null,
      "outputs": []
    },
    {
      "cell_type": "markdown",
      "metadata": {
        "id": "legitimate-veteran"
      },
      "source": [
        "**Classifying using the rule decision**"
      ],
      "id": "legitimate-veteran"
    },
    {
      "cell_type": "code",
      "metadata": {
        "id": "grand-genre",
        "outputId": "c89f76ac-be55-42d3-bf7b-e081164c561e"
      },
      "source": [
        "Y_hat_test = linear_regression_model.predict(X_test)\n",
        "C_multivariate = map(np.argmax, Y_hat_test)  # classification vector\n",
        "C_multivariate = list(C_multivariate)\n",
        "C_multivariate[:5]"
      ],
      "id": "grand-genre",
      "execution_count": null,
      "outputs": [
        {
          "output_type": "execute_result",
          "data": {
            "text/plain": [
              "[8, 4, 6, 7, 7]"
            ]
          },
          "metadata": {
            "tags": []
          },
          "execution_count": 9
        }
      ]
    },
    {
      "cell_type": "markdown",
      "metadata": {
        "id": "respected-director"
      },
      "source": [
        "**Comparing predictions vs real values**"
      ],
      "id": "respected-director"
    },
    {
      "cell_type": "code",
      "metadata": {
        "id": "spectacular-austria",
        "outputId": "93e37e19-a122-40af-c8e4-cc5a51f81375"
      },
      "source": [
        "differences = np.array(C_multivariate) - np.array(y_test)\n",
        "diff_freq = Counter(differences)\n",
        "correct_predictions_count = diff_freq[0]\n",
        "correct_predictions_count"
      ],
      "id": "spectacular-austria",
      "execution_count": null,
      "outputs": [
        {
          "output_type": "execute_result",
          "data": {
            "text/plain": [
              "11955"
            ]
          },
          "metadata": {
            "tags": []
          },
          "execution_count": 10
        }
      ]
    },
    {
      "cell_type": "markdown",
      "metadata": {
        "id": "missing-nurse"
      },
      "source": [
        "**proportion of correct predictions with multivariate regression (Accuracy)**"
      ],
      "id": "missing-nurse"
    },
    {
      "cell_type": "code",
      "metadata": {
        "id": "agricultural-guess",
        "outputId": "155c6484-d038-4be1-c48f-1d410d2282c2"
      },
      "source": [
        "accuracy_multivariate = correct_predictions_count/len(y_test)\n",
        "accuracy_multivariate"
      ],
      "id": "agricultural-guess",
      "execution_count": null,
      "outputs": [
        {
          "output_type": "execute_result",
          "data": {
            "text/plain": [
              "0.8539285714285715"
            ]
          },
          "metadata": {
            "tags": []
          },
          "execution_count": 11
        }
      ]
    },
    {
      "cell_type": "markdown",
      "metadata": {
        "id": "certified-rental"
      },
      "source": [
        "**Measuring distinct errors**"
      ],
      "id": "certified-rental"
    },
    {
      "cell_type": "code",
      "metadata": {
        "id": "processed-berry",
        "outputId": "d0f7c9d7-5de0-4b96-a7e7-071a43f61cb4"
      },
      "source": [
        "print(metrics.classification_report(y_test, C_multivariate, digits=3))"
      ],
      "id": "processed-berry",
      "execution_count": null,
      "outputs": [
        {
          "output_type": "stream",
          "text": [
            "              precision    recall  f1-score   support\n",
            "\n",
            "           0      0.901     0.953     0.927      1343\n",
            "           1      0.809     0.971     0.883      1600\n",
            "           2      0.903     0.793     0.844      1380\n",
            "           3      0.825     0.841     0.833      1433\n",
            "           4      0.819     0.886     0.851      1295\n",
            "           5      0.876     0.734     0.799      1273\n",
            "           6      0.893     0.925     0.909      1396\n",
            "           7      0.869     0.862     0.866      1503\n",
            "           8      0.842     0.741     0.788      1357\n",
            "           9      0.827     0.807     0.817      1420\n",
            "\n",
            "    accuracy                          0.854     14000\n",
            "   macro avg      0.856     0.851     0.852     14000\n",
            "weighted avg      0.856     0.854     0.852     14000\n",
            "\n"
          ],
          "name": "stdout"
        }
      ]
    },
    {
      "cell_type": "markdown",
      "metadata": {
        "id": "suburban-northern"
      },
      "source": [
        "# Linear Discriminant Analysis (LDA)"
      ],
      "id": "suburban-northern"
    },
    {
      "cell_type": "code",
      "metadata": {
        "id": "polyphonic-excess"
      },
      "source": [
        "lda = LinearDiscriminantAnalysis()\n",
        "lda_model = lda.fit(X_train, y_train)"
      ],
      "id": "polyphonic-excess",
      "execution_count": null,
      "outputs": []
    },
    {
      "cell_type": "code",
      "metadata": {
        "id": "jewish-perception",
        "outputId": "7fed627b-b06b-4698-c8d5-d12b039ce7e3"
      },
      "source": [
        "lda_predict = lda_model.predict(X_test)\n",
        "lda_predict"
      ],
      "id": "jewish-perception",
      "execution_count": null,
      "outputs": [
        {
          "output_type": "execute_result",
          "data": {
            "text/plain": [
              "array([8, 4, 5, ..., 2, 7, 1])"
            ]
          },
          "metadata": {
            "tags": []
          },
          "execution_count": 26
        }
      ]
    },
    {
      "cell_type": "markdown",
      "metadata": {
        "id": "attractive-music"
      },
      "source": [
        "**Measuring distinct errors:**"
      ],
      "id": "attractive-music"
    },
    {
      "cell_type": "code",
      "metadata": {
        "id": "fixed-russell",
        "outputId": "106c2e6d-d04c-4d55-9793-33e90e7c6bcb"
      },
      "source": [
        "print(metrics.classification_report(y_test, lda_predict, digits=3))"
      ],
      "id": "fixed-russell",
      "execution_count": null,
      "outputs": [
        {
          "output_type": "stream",
          "text": [
            "              precision    recall  f1-score   support\n",
            "\n",
            "           0      0.955     0.939     0.947      1343\n",
            "           1      0.865     0.958     0.909      1600\n",
            "           2      0.902     0.809     0.853      1380\n",
            "           3      0.851     0.839     0.845      1433\n",
            "           4      0.842     0.893     0.867      1295\n",
            "           5      0.819     0.816     0.817      1273\n",
            "           6      0.930     0.910     0.920      1396\n",
            "           7      0.919     0.845     0.880      1503\n",
            "           8      0.808     0.789     0.798      1357\n",
            "           9      0.798     0.865     0.830      1420\n",
            "\n",
            "    accuracy                          0.868     14000\n",
            "   macro avg      0.869     0.866     0.867     14000\n",
            "weighted avg      0.869     0.868     0.868     14000\n",
            "\n"
          ],
          "name": "stdout"
        }
      ]
    },
    {
      "cell_type": "markdown",
      "metadata": {
        "id": "alike-blond"
      },
      "source": [
        "## LDA Model Selection"
      ],
      "id": "alike-blond"
    },
    {
      "cell_type": "code",
      "metadata": {
        "colab": {
          "base_uri": "https://localhost:8080/"
        },
        "id": "critical-accent",
        "outputId": "5f69530a-d87a-4def-95a4-6696f93e1ed3"
      },
      "source": [
        "parameters = [\n",
        "  {'n_components' : [2,5,10,20,50]}\n",
        "]\n",
        "lda_model_selection = LinearDiscriminantAnalysis()\n",
        "GS = GridSearchCV(estimator=lda_model_selection, param_grid=parameters, cv = 5, return_train_score=True, n_jobs=-1)\n",
        "GS.fit(X,y)"
      ],
      "id": "critical-accent",
      "execution_count": null,
      "outputs": [
        {
          "output_type": "execute_result",
          "data": {
            "text/plain": [
              "GridSearchCV(cv=5, error_score=nan,\n",
              "             estimator=LinearDiscriminantAnalysis(n_components=None,\n",
              "                                                  priors=None, shrinkage=None,\n",
              "                                                  solver='svd',\n",
              "                                                  store_covariance=False,\n",
              "                                                  tol=0.0001),\n",
              "             iid='deprecated', n_jobs=-1,\n",
              "             param_grid=[{'n_components': [2, 5, 10, 20, 50]}],\n",
              "             pre_dispatch='2*n_jobs', refit=True, return_train_score=True,\n",
              "             scoring=None, verbose=0)"
            ]
          },
          "metadata": {
            "tags": []
          },
          "execution_count": 7
        }
      ]
    },
    {
      "cell_type": "code",
      "metadata": {
        "colab": {
          "base_uri": "https://localhost:8080/"
        },
        "id": "l8MCRKokvLot",
        "outputId": "b7ee6bcd-2750-4abd-e9c2-407676893471"
      },
      "source": [
        "print('Best score:', GS.best_score_) \n",
        "print('Best score:', GS.best_params_) "
      ],
      "id": "l8MCRKokvLot",
      "execution_count": null,
      "outputs": [
        {
          "output_type": "stream",
          "text": [
            "Best score: 0.8654428571428572\n",
            "Best score: {'n_components': 2}\n"
          ],
          "name": "stdout"
        }
      ]
    },
    {
      "cell_type": "markdown",
      "metadata": {
        "id": "acting-overhead"
      },
      "source": [
        "# Quadratic Discriminant Analysis (QDA)"
      ],
      "id": "acting-overhead"
    },
    {
      "cell_type": "code",
      "metadata": {
        "id": "mounted-constant",
        "outputId": "85948d08-a50a-428d-d854-857b54e55e68"
      },
      "source": [
        "qda = QuadraticDiscriminantAnalysis()\n",
        "qda_model = qda.fit(X_train, y_train)"
      ],
      "id": "mounted-constant",
      "execution_count": null,
      "outputs": [
        {
          "output_type": "stream",
          "text": [
            "/home/ed4st/anaconda3/envs/DS/lib/python3.8/site-packages/sklearn/discriminant_analysis.py:715: UserWarning: Variables are collinear\n",
            "  warnings.warn(\"Variables are collinear\")\n"
          ],
          "name": "stderr"
        }
      ]
    },
    {
      "cell_type": "code",
      "metadata": {
        "id": "increasing-director",
        "outputId": "9d81558c-ece5-497c-925f-896dde6aecaf"
      },
      "source": [
        "qda_predict = qda_model.predict(X_test)\n",
        "qda_predict"
      ],
      "id": "increasing-director",
      "execution_count": null,
      "outputs": [
        {
          "output_type": "execute_result",
          "data": {
            "text/plain": [
              "array([8, 9, 8, ..., 1, 9, 1])"
            ]
          },
          "metadata": {
            "tags": []
          },
          "execution_count": 17
        }
      ]
    },
    {
      "cell_type": "markdown",
      "metadata": {
        "id": "hungarian-chemical"
      },
      "source": [
        "**Measuring distinct errors:**"
      ],
      "id": "hungarian-chemical"
    },
    {
      "cell_type": "code",
      "metadata": {
        "id": "institutional-choice",
        "outputId": "b65da3bc-797d-4903-9322-46b0387f1c77"
      },
      "source": [
        "print(metrics.classification_report(y_test, qda_predict, digits=3))"
      ],
      "id": "institutional-choice",
      "execution_count": null,
      "outputs": [
        {
          "output_type": "stream",
          "text": [
            "              precision    recall  f1-score   support\n",
            "\n",
            "           0      0.287     0.972     0.444      1343\n",
            "           1      0.877     0.948     0.911      1600\n",
            "           2      0.860     0.213     0.341      1380\n",
            "           3      0.653     0.270     0.382      1433\n",
            "           4      0.802     0.066     0.121      1295\n",
            "           5      0.922     0.075     0.138      1273\n",
            "           6      0.757     0.946     0.841      1396\n",
            "           7      0.926     0.283     0.434      1503\n",
            "           8      0.498     0.458     0.477      1357\n",
            "           9      0.430     0.950     0.592      1420\n",
            "\n",
            "    accuracy                          0.529     14000\n",
            "   macro avg      0.701     0.518     0.468     14000\n",
            "weighted avg      0.704     0.529     0.480     14000\n",
            "\n"
          ],
          "name": "stdout"
        }
      ]
    },
    {
      "cell_type": "markdown",
      "metadata": {
        "id": "communist-honduras"
      },
      "source": [
        "# Logistic Regression"
      ],
      "id": "communist-honduras"
    },
    {
      "cell_type": "code",
      "metadata": {
        "id": "dangerous-premium",
        "outputId": "1afd957c-996f-4a44-c7f0-d63fe2961d04"
      },
      "source": [
        "log_reg = linear_model.LogisticRegression(solver = 'sag', n_jobs=-1, max_iter=100, multi_class=\"multinomial\")\n",
        "logistic_model =  log_reg.fit(X_train, y_train)"
      ],
      "id": "dangerous-premium",
      "execution_count": null,
      "outputs": [
        {
          "output_type": "stream",
          "text": [
            "/home/ed4st/anaconda3/envs/DS/lib/python3.8/site-packages/sklearn/linear_model/_sag.py:329: ConvergenceWarning: The max_iter was reached which means the coef_ did not converge\n",
            "  warnings.warn(\"The max_iter was reached which means \"\n"
          ],
          "name": "stderr"
        }
      ]
    },
    {
      "cell_type": "code",
      "metadata": {
        "id": "activated-carol",
        "outputId": "1fdf053d-5c8f-4a0f-a104-f46f62ebc90c"
      },
      "source": [
        "logistic_predict = logistic_model.predict(X_test)\n",
        "logistic_predict "
      ],
      "id": "activated-carol",
      "execution_count": null,
      "outputs": [
        {
          "output_type": "execute_result",
          "data": {
            "text/plain": [
              "array([8, 4, 5, ..., 2, 7, 1])"
            ]
          },
          "metadata": {
            "tags": []
          },
          "execution_count": 20
        }
      ]
    },
    {
      "cell_type": "markdown",
      "metadata": {
        "id": "square-agenda"
      },
      "source": [
        "**Measuring distinct errors:**"
      ],
      "id": "square-agenda"
    },
    {
      "cell_type": "code",
      "metadata": {
        "id": "given-accident",
        "outputId": "fa368ce1-f9fe-46f5-ed6b-7af673118fa8"
      },
      "source": [
        "print(metrics.classification_report(y_test, logistic_predict, digits=3))"
      ],
      "id": "given-accident",
      "execution_count": null,
      "outputs": [
        {
          "output_type": "stream",
          "text": [
            "              precision    recall  f1-score   support\n",
            "\n",
            "           0      0.957     0.960     0.958      1343\n",
            "           1      0.955     0.971     0.963      1600\n",
            "           2      0.906     0.891     0.899      1380\n",
            "           3      0.896     0.900     0.898      1433\n",
            "           4      0.919     0.921     0.920      1295\n",
            "           5      0.891     0.863     0.876      1273\n",
            "           6      0.935     0.951     0.943      1396\n",
            "           7      0.933     0.937     0.935      1503\n",
            "           8      0.886     0.873     0.879      1357\n",
            "           9      0.899     0.906     0.902      1420\n",
            "\n",
            "    accuracy                          0.919     14000\n",
            "   macro avg      0.918     0.917     0.917     14000\n",
            "weighted avg      0.918     0.919     0.918     14000\n",
            "\n"
          ],
          "name": "stdout"
        }
      ]
    },
    {
      "cell_type": "markdown",
      "metadata": {
        "id": "clear-photography"
      },
      "source": [
        "# Applet for prediction"
      ],
      "id": "clear-photography"
    },
    {
      "cell_type": "code",
      "metadata": {
        "id": "fabulous-fifteen"
      },
      "source": [
        "fitted_models = [linear_regression_model, lda_model, qda_model, lda_model]"
      ],
      "id": "fabulous-fifteen",
      "execution_count": null,
      "outputs": []
    },
    {
      "cell_type": "code",
      "metadata": {
        "id": "adult-boost"
      },
      "source": [
        "from tkinter import *\n",
        "from digitsTab import Predict\n",
        "# ejecutamos el applet\n",
        "root = Tk()\n",
        "root.geometry(\"400x400\")\n",
        "root.resizable(0, 0)\n",
        "app = Predict(root, fitted_models)\n",
        "root.mainloop()"
      ],
      "id": "adult-boost",
      "execution_count": null,
      "outputs": []
    },
    {
      "cell_type": "markdown",
      "metadata": {
        "id": "random-driving"
      },
      "source": [
        "# Neural Network"
      ],
      "id": "random-driving"
    },
    {
      "cell_type": "code",
      "metadata": {
        "id": "patient-prescription"
      },
      "source": [
        "# The ith element represents the number of neurons in the ith hidden layer.\n",
        "hls = [10,10]\n",
        "# regularization parameter\n",
        "a = .1\n",
        "mlp = MLPClassifier(solver='lbfgs', hidden_layer_sizes=hls, random_state=0, alpha=a).fit(X_train, y_train)"
      ],
      "id": "patient-prescription",
      "execution_count": null,
      "outputs": []
    },
    {
      "cell_type": "code",
      "metadata": {
        "id": "enclosed-evans"
      },
      "source": [
        "# Predicting\n",
        "NN_predict = mlp.predict(X_test)"
      ],
      "id": "enclosed-evans",
      "execution_count": null,
      "outputs": []
    },
    {
      "cell_type": "code",
      "metadata": {
        "id": "under-somalia",
        "outputId": "a45617ec-f2ce-4c1f-f1af-72690b276ee2"
      },
      "source": [
        "print(metrics.classification_report(y_test, NN_predict, digits=3))"
      ],
      "id": "under-somalia",
      "execution_count": null,
      "outputs": [
        {
          "output_type": "stream",
          "text": [
            "              precision    recall  f1-score   support\n",
            "\n",
            "           0      0.000     0.000     0.000      1343\n",
            "           1      0.114     1.000     0.205      1600\n",
            "           2      0.000     0.000     0.000      1380\n",
            "           3      0.000     0.000     0.000      1433\n",
            "           4      0.000     0.000     0.000      1295\n",
            "           5      0.000     0.000     0.000      1273\n",
            "           6      0.000     0.000     0.000      1396\n",
            "           7      0.000     0.000     0.000      1503\n",
            "           8      0.000     0.000     0.000      1357\n",
            "           9      0.000     0.000     0.000      1420\n",
            "\n",
            "    accuracy                          0.114     14000\n",
            "   macro avg      0.011     0.100     0.021     14000\n",
            "weighted avg      0.013     0.114     0.023     14000\n",
            "\n"
          ],
          "name": "stdout"
        },
        {
          "output_type": "stream",
          "text": [
            "/home/ed4st/anaconda3/envs/DS/lib/python3.8/site-packages/sklearn/metrics/_classification.py:1221: UndefinedMetricWarning: Precision and F-score are ill-defined and being set to 0.0 in labels with no predicted samples. Use `zero_division` parameter to control this behavior.\n",
            "  _warn_prf(average, modifier, msg_start, len(result))\n"
          ],
          "name": "stderr"
        }
      ]
    },
    {
      "cell_type": "markdown",
      "metadata": {
        "id": "alone-emperor"
      },
      "source": [
        "## Neural Network Model Selection"
      ],
      "id": "alone-emperor"
    },
    {
      "cell_type": "markdown",
      "metadata": {
        "id": "hollywood-swing"
      },
      "source": [
        "**Using Grid Search:**"
      ],
      "id": "hollywood-swing"
    },
    {
      "cell_type": "code",
      "metadata": {
        "id": "august-dylan",
        "colab": {
          "base_uri": "https://localhost:8080/"
        },
        "outputId": "70b01fc3-dd2c-4c5f-fe99-ed5e6474c839"
      },
      "source": [
        "parameters = [\n",
        "  {'hidden_layer_sizes': [[10,],[10,10], [10,2]], 'alpha': [0.01, 0.1, 0.5, 1, 5, 10]}\n",
        "]\n",
        "mlp = MLPClassifier(solver='lbfgs', random_state=0)\n",
        "GS = GridSearchCV(estimator=mlp, param_grid=parameters, cv = 5, return_train_score=True, n_jobs=-1)\n",
        "GS.fit(X,y)"
      ],
      "id": "august-dylan",
      "execution_count": null,
      "outputs": [
        {
          "output_type": "execute_result",
          "data": {
            "text/plain": [
              "GridSearchCV(cv=5, error_score=nan,\n",
              "             estimator=MLPClassifier(activation='relu', alpha=0.0001,\n",
              "                                     batch_size='auto', beta_1=0.9,\n",
              "                                     beta_2=0.999, early_stopping=False,\n",
              "                                     epsilon=1e-08, hidden_layer_sizes=(100,),\n",
              "                                     learning_rate='constant',\n",
              "                                     learning_rate_init=0.001, max_fun=15000,\n",
              "                                     max_iter=200, momentum=0.9,\n",
              "                                     n_iter_no_change=10,\n",
              "                                     nesterovs_momentum=True, power_t=0.5,\n",
              "                                     random_state=0, shuffle=True,\n",
              "                                     solver='lbfgs', tol=0.0001,\n",
              "                                     validation_fraction=0.1, verbose=False,\n",
              "                                     warm_start=False),\n",
              "             iid='deprecated', n_jobs=-1,\n",
              "             param_grid=[{'alpha': [0.01, 0.1, 0.5, 1, 5, 10],\n",
              "                          'hidden_layer_sizes': [[10], [10, 10], [10, 2]]}],\n",
              "             pre_dispatch='2*n_jobs', refit=True, return_train_score=True,\n",
              "             scoring=None, verbose=0)"
            ]
          },
          "metadata": {
            "tags": []
          },
          "execution_count": 7
        }
      ]
    },
    {
      "cell_type": "code",
      "metadata": {
        "id": "settled-manitoba",
        "colab": {
          "base_uri": "https://localhost:8080/"
        },
        "outputId": "fb107935-262b-4fe9-c3a8-d0871cbe25db"
      },
      "source": [
        "print('Best score:', GS.best_score_) \n",
        "print('Best C:',GS.best_estimator_) \n",
        "#print('Best Kernel:',GS.best_estimator_.kernel)\n",
        "#print('Best Gamma:',GS.best_estimator_.gamma)"
      ],
      "id": "settled-manitoba",
      "execution_count": null,
      "outputs": [
        {
          "output_type": "stream",
          "text": [
            "Best score: 0.2801571428571429\n",
            "Best C: MLPClassifier(activation='relu', alpha=10, batch_size='auto', beta_1=0.9,\n",
            "              beta_2=0.999, early_stopping=False, epsilon=1e-08,\n",
            "              hidden_layer_sizes=[10, 10], learning_rate='constant',\n",
            "              learning_rate_init=0.001, max_fun=15000, max_iter=200,\n",
            "              momentum=0.9, n_iter_no_change=10, nesterovs_momentum=True,\n",
            "              power_t=0.5, random_state=0, shuffle=True, solver='lbfgs',\n",
            "              tol=0.0001, validation_fraction=0.1, verbose=False,\n",
            "              warm_start=False)\n"
          ],
          "name": "stdout"
        }
      ]
    },
    {
      "cell_type": "code",
      "metadata": {
        "id": "floppy-institution",
        "colab": {
          "base_uri": "https://localhost:8080/",
          "height": 432
        },
        "outputId": "8d3047cd-e0f2-4156-b685-159d84e1c952"
      },
      "source": [
        "scores_mean = GS.cv_results_['mean_test_score']\n",
        "scores_sd = GS.cv_results_['std_test_score']\n",
        "scores_mean_tr = GS.cv_results_['mean_train_score']\n",
        "scores_sd_tr = GS.cv_results_['std_train_score']\n",
        "\n",
        "plt.style.use('seaborn-whitegrid')\n",
        "x_ax = list(range(0,len(scores_mean)))\n",
        "plt.rcParams['figure.figsize'] = (12, 6)\n",
        "plt.fill_between(x_ax, scores_mean - scores_sd, scores_mean + scores_sd, alpha=0.1, color='blue')\n",
        "plt.plot(x_ax, scores_mean, color='black',label='test')\n",
        "plt.scatter(np.argmax(scores_mean), scores_mean[np.argmax(scores_mean),], s=300, linewidth=2, facecolors = 'none', edgecolors='red')\n",
        "plt.errorbar(x_ax, scores_mean_tr, yerr=scores_sd_tr, fmt='-o', color='gray', ecolor='gray',label='train')\n",
        "plt.xlabel('Modelo',size=15)\n",
        "plt.ylabel('Score',size=15)\n",
        "plt.suptitle('Grid Search CV - Neural Network',size=20)\n",
        "plt.legend(loc=\"best\")\n",
        "plt.show()"
      ],
      "id": "floppy-institution",
      "execution_count": null,
      "outputs": [
        {
          "output_type": "display_data",
          "data": {
            "image/png": "[encoded data removed]",
            "text/plain": [
              "<Figure size 864x432 with 1 Axes>"
            ]
          },
          "metadata": {
            "tags": []
          }
        }
      ]
    },
    {
      "cell_type": "code",
      "metadata": {
        "id": "SHOHVb-k433B"
      },
      "source": [
        ""
      ],
      "id": "SHOHVb-k433B",
      "execution_count": null,
      "outputs": []
    },
    {
      "cell_type": "code",
      "metadata": {
        "id": "r5p3sTcFgvB6"
      },
      "source": [
        ""
      ],
      "id": "r5p3sTcFgvB6",
      "execution_count": null,
      "outputs": []
    },
    {
      "cell_type": "markdown",
      "metadata": {
        "id": "NgRPqPEbgxRD"
      },
      "source": [
        "# Reducing dimension of data"
      ],
      "id": "NgRPqPEbgxRD"
    },
    {
      "cell_type": "code",
      "metadata": {
        "id": "Z52aRgFvhRhV"
      },
      "source": [
        ""
      ],
      "id": "Z52aRgFvhRhV",
      "execution_count": null,
      "outputs": []
    },
    {
      "cell_type": "markdown",
      "metadata": {
        "id": "ujwyjsbd5Pk0"
      },
      "source": [
        "# Support Vector Machine"
      ],
      "id": "ujwyjsbd5Pk0"
    },
    {
      "cell_type": "markdown",
      "metadata": {
        "id": "t9ygxPPg5h1u"
      },
      "source": [
        "**Grid Search SVM Model Selection**"
      ],
      "id": "t9ygxPPg5h1u"
    },
    {
      "cell_type": "code",
      "metadata": {
        "id": "5K8Ym_F05OhJ"
      },
      "source": [
        "parameters = [\n",
        "    {'kernel': ['linear'], \"C\":[0.5]},\n",
        "    {'kernel':['rbf'], 'gamma': [.1, 2], 'C': [0.5]}\n",
        "]\n",
        "svm = SVC()\n",
        "GS = GridSearchCV(estimator=svm, param_grid=parameters, cv = 5, return_train_score=True, n_jobs=-1)\n",
        "GS.fit(X_pca_train,y_train)"
      ],
      "id": "5K8Ym_F05OhJ",
      "execution_count": null,
      "outputs": []
    },
    {
      "cell_type": "code",
      "metadata": {
        "id": "wkhOWsbQ5314"
      },
      "source": [
        "print('Best score:', GS.best_score_) \n",
        "print('Best C:',GS.best_estimator_) "
      ],
      "id": "wkhOWsbQ5314",
      "execution_count": null,
      "outputs": []
    },
    {
      "cell_type": "code",
      "metadata": {
        "id": "VnoNMU-f5L1s"
      },
      "source": [
        "scores_mean = GS.cv_results_['mean_test_score']\n",
        "scores_sd = GS.cv_results_['std_test_score']\n",
        "scores_mean_tr = GS.cv_results_['mean_train_score']\n",
        "scores_sd_tr = GS.cv_results_['std_train_score']\n",
        "\n",
        "plt.style.use('seaborn-whitegrid')\n",
        "x_ax = list(range(0,len(scores_mean)))\n",
        "plt.rcParams['figure.figsize'] = (12, 6)\n",
        "plt.fill_between(x_ax, scores_mean - scores_sd, scores_mean + scores_sd, alpha=0.1, color='blue')\n",
        "plt.plot(x_ax, scores_mean, color='black',label='test')\n",
        "plt.scatter(np.argmax(scores_mean), scores_mean[np.argmax(scores_mean),], s=300, linewidth=2, facecolors = 'none', edgecolors='red')\n",
        "plt.errorbar(x_ax, scores_mean_tr, yerr=scores_sd_tr, fmt='-o', color='gray', ecolor='gray',label='train')\n",
        "plt.xlabel('Modelo',size=15)\n",
        "plt.ylabel('Score',size=15)\n",
        "plt.suptitle('Grid Search CV - SVM',size=20)\n",
        "plt.legend(loc=\"best\")\n",
        "plt.show()"
      ],
      "id": "VnoNMU-f5L1s",
      "execution_count": null,
      "outputs": []
    },
    {
      "cell_type": "markdown",
      "metadata": {
        "id": "-C2jnfO1F2ty"
      },
      "source": [
        "# Classification Tree"
      ],
      "id": "-C2jnfO1F2ty"
    },
    {
      "cell_type": "code",
      "metadata": {
        "id": "DN_Wqrrw5-za",
        "colab": {
          "base_uri": "https://localhost:8080/"
        },
        "outputId": "081b20bd-bafb-468c-bcd6-784efb45e97a"
      },
      "source": [
        "parameters = [\n",
        "    {'max_depth': [2,4,6], \"ccp_alpha\":[0.01, 0.1, 1, 10]}\n",
        "]\n",
        "ctree = DecisionTreeClassifier(random_state=0)\n",
        "GS = GridSearchCV(estimator=ctree, param_grid=parameters, cv = 5, return_train_score=True, n_jobs=-1)\n",
        "GS.fit(X_train_pca,y_train)"
      ],
      "id": "DN_Wqrrw5-za",
      "execution_count": null,
      "outputs": [
        {
          "output_type": "execute_result",
          "data": {
            "text/plain": [
              "GridSearchCV(cv=5, error_score=nan,\n",
              "             estimator=DecisionTreeClassifier(ccp_alpha=0.0, class_weight=None,\n",
              "                                              criterion='gini', max_depth=None,\n",
              "                                              max_features=None,\n",
              "                                              max_leaf_nodes=None,\n",
              "                                              min_impurity_decrease=0.0,\n",
              "                                              min_impurity_split=None,\n",
              "                                              min_samples_leaf=1,\n",
              "                                              min_samples_split=2,\n",
              "                                              min_weight_fraction_leaf=0.0,\n",
              "                                              presort='deprecated',\n",
              "                                              random_state=0, splitter='best'),\n",
              "             iid='deprecated', n_jobs=-1,\n",
              "             param_grid=[{'ccp_alpha': [0.01, 0.1, 1, 10],\n",
              "                          'max_depth': [2, 4, 6]}],\n",
              "             pre_dispatch='2*n_jobs', refit=True, return_train_score=True,\n",
              "             scoring=None, verbose=0)"
            ]
          },
          "metadata": {
            "tags": []
          },
          "execution_count": 15
        }
      ]
    },
    {
      "cell_type": "code",
      "metadata": {
        "colab": {
          "base_uri": "https://localhost:8080/"
        },
        "id": "uHY2Hesmj4p_",
        "outputId": "c83efe55-4cb7-461a-d08c-e5d39b5edb79"
      },
      "source": [
        "print('Best score:', GS.best_score_) \n",
        "print('Best C:',GS.best_estimator_) "
      ],
      "id": "uHY2Hesmj4p_",
      "execution_count": null,
      "outputs": [
        {
          "output_type": "stream",
          "text": [
            "Best score: 0.6266285714285714\n",
            "Best C: DecisionTreeClassifier(ccp_alpha=0.01, class_weight=None, criterion='gini',\n",
            "                       max_depth=6, max_features=None, max_leaf_nodes=None,\n",
            "                       min_impurity_decrease=0.0, min_impurity_split=None,\n",
            "                       min_samples_leaf=1, min_samples_split=2,\n",
            "                       min_weight_fraction_leaf=0.0, presort='deprecated',\n",
            "                       random_state=0, splitter='best')\n"
          ],
          "name": "stdout"
        }
      ]
    },
    {
      "cell_type": "code",
      "metadata": {
        "id": "GiCQ3_8gGgmi",
        "colab": {
          "base_uri": "https://localhost:8080/",
          "height": 432
        },
        "outputId": "4d17e40e-a88d-4e3b-df7a-174bef79183f"
      },
      "source": [
        "scores_mean = GS.cv_results_['mean_test_score']\n",
        "scores_sd = GS.cv_results_['std_test_score']\n",
        "scores_mean_tr = GS.cv_results_['mean_train_score']\n",
        "scores_sd_tr = GS.cv_results_['std_train_score']\n",
        "\n",
        "plt.style.use('seaborn-whitegrid')\n",
        "x_ax = list(range(0,len(scores_mean)))\n",
        "plt.rcParams['figure.figsize'] = (12, 6)\n",
        "plt.fill_between(x_ax, scores_mean - scores_sd, scores_mean + scores_sd, alpha=0.1, color='blue')\n",
        "plt.plot(x_ax, scores_mean, color='black',label='test')\n",
        "plt.scatter(np.argmax(scores_mean), scores_mean[np.argmax(scores_mean),], s=300, linewidth=2, facecolors = 'none', edgecolors='red')\n",
        "plt.errorbar(x_ax, scores_mean_tr, yerr=scores_sd_tr, fmt='-o', color='gray', ecolor='gray',label='train')\n",
        "plt.xlabel('Modelo',size=15)\n",
        "plt.ylabel('Score',size=15)\n",
        "plt.suptitle('Grid Search CV - Decision Tree',size=20)\n",
        "plt.legend(loc=\"best\")\n",
        "plt.show()"
      ],
      "id": "GiCQ3_8gGgmi",
      "execution_count": null,
      "outputs": [
        {
          "output_type": "display_data",
          "data": {
            "image/png": "[encoded data removed]",
            "text/plain": [
              "<Figure size 864x432 with 1 Axes>"
            ]
          },
          "metadata": {
            "tags": []
          }
        }
      ]
    },
    {
      "cell_type": "markdown",
      "metadata": {
        "id": "J43RoWleG_op"
      },
      "source": [
        "# Ada Boost"
      ],
      "id": "J43RoWleG_op"
    },
    {
      "cell_type": "code",
      "metadata": {
        "id": "1SjIf7fAG8Di"
      },
      "source": [
        ""
      ],
      "id": "1SjIf7fAG8Di",
      "execution_count": null,
      "outputs": []
    },
    {
      "cell_type": "code",
      "metadata": {
        "id": "Vm2EfdiSGlYd",
        "colab": {
          "base_uri": "https://localhost:8080/"
        },
        "outputId": "f036a01a-4ce0-45a0-e380-c67a957f019c"
      },
      "source": [
        "parameters = [\n",
        "    {'n_estimators': [10,20,50,100], \"learning_rate\":[ 0.1, 1, 1.5, 10]}\n",
        "]\n",
        "ada_classifier = AdaBoostClassifier(DecisionTreeClassifier(max_depth=2), algorithm=\"SAMME\")\n",
        "GS = GridSearchCV(estimator=ada_classifier, param_grid=parameters, cv = 5, return_train_score=True, n_jobs=-1)\n",
        "GS.fit(X_train_pca,y_train)"
      ],
      "id": "Vm2EfdiSGlYd",
      "execution_count": null,
      "outputs": [
        {
          "output_type": "execute_result",
          "data": {
            "text/plain": [
              "GridSearchCV(cv=5, error_score=nan,\n",
              "             estimator=AdaBoostClassifier(algorithm='SAMME',\n",
              "                                          base_estimator=DecisionTreeClassifier(ccp_alpha=0.0,\n",
              "                                                                                class_weight=None,\n",
              "                                                                                criterion='gini',\n",
              "                                                                                max_depth=2,\n",
              "                                                                                max_features=None,\n",
              "                                                                                max_leaf_nodes=None,\n",
              "                                                                                min_impurity_decrease=0.0,\n",
              "                                                                                min_impurity_split=None,\n",
              "                                                                                min_samples_leaf=1,\n",
              "                                                                                min_samples_split=2,\n",
              "                                                                                min_weight_fraction_leaf=0.0,\n",
              "                                                                                presort='deprecated',\n",
              "                                                                                random_state=None,\n",
              "                                                                                splitter='best'),\n",
              "                                          learning_rate=1.0, n_estimators=50,\n",
              "                                          random_state=None),\n",
              "             iid='deprecated', n_jobs=-1,\n",
              "             param_grid=[{'learning_rate': [0.1, 1, 1.5, 10],\n",
              "                          'n_estimators': [10, 20, 50, 100]}],\n",
              "             pre_dispatch='2*n_jobs', refit=True, return_train_score=True,\n",
              "             scoring=None, verbose=0)"
            ]
          },
          "metadata": {
            "tags": []
          },
          "execution_count": 18
        }
      ]
    },
    {
      "cell_type": "code",
      "metadata": {
        "colab": {
          "base_uri": "https://localhost:8080/"
        },
        "id": "X_1304Qlj_F2",
        "outputId": "56d111ef-55d2-46f1-cb3a-842be3cec56a"
      },
      "source": [
        "print('Best score:', GS.best_score_) \n",
        "print('Best C:',GS.best_estimator_) "
      ],
      "id": "X_1304Qlj_F2",
      "execution_count": null,
      "outputs": [
        {
          "output_type": "stream",
          "text": [
            "Best score: 0.7871809523809523\n",
            "Best C: AdaBoostClassifier(algorithm='SAMME',\n",
            "                   base_estimator=DecisionTreeClassifier(ccp_alpha=0.0,\n",
            "                                                         class_weight=None,\n",
            "                                                         criterion='gini',\n",
            "                                                         max_depth=2,\n",
            "                                                         max_features=None,\n",
            "                                                         max_leaf_nodes=None,\n",
            "                                                         min_impurity_decrease=0.0,\n",
            "                                                         min_impurity_split=None,\n",
            "                                                         min_samples_leaf=1,\n",
            "                                                         min_samples_split=2,\n",
            "                                                         min_weight_fraction_leaf=0.0,\n",
            "                                                         presort='deprecated',\n",
            "                                                         random_state=None,\n",
            "                                                         splitter='best'),\n",
            "                   learning_rate=1, n_estimators=100, random_state=None)\n"
          ],
          "name": "stdout"
        }
      ]
    },
    {
      "cell_type": "code",
      "metadata": {
        "id": "EMQ2J-u1I0JT",
        "colab": {
          "base_uri": "https://localhost:8080/",
          "height": 432
        },
        "outputId": "ee08477a-172a-4cbc-ae31-0cc58be1f1c1"
      },
      "source": [
        "scores_mean = GS.cv_results_['mean_test_score']\n",
        "scores_sd = GS.cv_results_['std_test_score']\n",
        "scores_mean_tr = GS.cv_results_['mean_train_score']\n",
        "scores_sd_tr = GS.cv_results_['std_train_score']\n",
        "\n",
        "plt.style.use('seaborn-whitegrid')\n",
        "x_ax = list(range(0,len(scores_mean)))\n",
        "plt.rcParams['figure.figsize'] = (12, 6)\n",
        "plt.fill_between(x_ax, scores_mean - scores_sd, scores_mean + scores_sd, alpha=0.1, color='blue')\n",
        "plt.plot(x_ax, scores_mean, color='black',label='test')\n",
        "plt.scatter(np.argmax(scores_mean), scores_mean[np.argmax(scores_mean),], s=300, linewidth=2, facecolors = 'none', edgecolors='red')\n",
        "plt.errorbar(x_ax, scores_mean_tr, yerr=scores_sd_tr, fmt='-o', color='gray', ecolor='gray',label='train')\n",
        "plt.xlabel('Modelo',size=15)\n",
        "plt.ylabel('Score',size=15)\n",
        "plt.suptitle('Grid Search CV - Ada Boost',size=20)\n",
        "plt.legend(loc=\"best\")\n",
        "plt.show()"
      ],
      "id": "EMQ2J-u1I0JT",
      "execution_count": null,
      "outputs": [
        {
          "output_type": "display_data",
          "data": {
            "image/png": "[encoded data removed]",
            "text/plain": [
              "<Figure size 864x432 with 1 Axes>"
            ]
          },
          "metadata": {
            "tags": []
          }
        }
      ]
    }
  ]
}