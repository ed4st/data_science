{
 "cells": [
  {
   "cell_type": "markdown",
   "id": "ranging-usage",
   "metadata": {},
   "source": [
    "# Seleccionando las variables de interés\n",
    "Para el análisis de factores económicos de los datos del censo en el estado de Nuevo León (2010), procedemos a seleccionar las variables que nos permitirán replicar los indicadores económicos propuestos en el *Anexo C* del Consejo Nacional de Población (CONAPO),\n",
    "con el fin de incorporar el índice de marginación en las distintas localidades de \n",
    "mayor población y de las cuales se tienen datos."
   ]
  },
  {
   "cell_type": "code",
   "execution_count": 42,
   "id": "strategic-accreditation",
   "metadata": {
    "ExecuteTime": {
     "end_time": "2021-02-22T04:39:43.806983Z",
     "start_time": "2021-02-22T04:39:43.788146Z"
    }
   },
   "outputs": [],
   "source": [
    "import pandas as pd\n",
    "import numpy as np\n",
    "import sklearn as sns\n",
    "import matplotlib.pyplot as plt\n",
    "from statistics import mean, stdev\n",
    "from sklearn.impute import SimpleImputer,KNNImputer\n",
    "from sklearn.preprocessing import StandardScaler\n",
    "\n",
    "%matplotlib inline"
   ]
  },
  {
   "cell_type": "code",
   "execution_count": 2,
   "id": "opening-recommendation",
   "metadata": {
    "ExecuteTime": {
     "end_time": "2021-02-22T04:36:50.622251Z",
     "start_time": "2021-02-22T04:36:49.594824Z"
    }
   },
   "outputs": [
    {
     "data": {
      "text/html": [
       "<div>\n",
       "<style scoped>\n",
       "    .dataframe tbody tr th:only-of-type {\n",
       "        vertical-align: middle;\n",
       "    }\n",
       "\n",
       "    .dataframe tbody tr th {\n",
       "        vertical-align: top;\n",
       "    }\n",
       "\n",
       "    .dataframe thead th {\n",
       "        text-align: right;\n",
       "    }\n",
       "</style>\n",
       "<table border=\"1\" class=\"dataframe\">\n",
       "  <thead>\n",
       "    <tr style=\"text-align: right;\">\n",
       "      <th></th>\n",
       "      <th>CVEGEO</th>\n",
       "      <th>NOMBRE</th>\n",
       "      <th>POB1</th>\n",
       "      <th>POB2</th>\n",
       "      <th>POB2_R</th>\n",
       "      <th>POB3</th>\n",
       "      <th>POB3_R</th>\n",
       "      <th>POB4</th>\n",
       "      <th>POB4_R</th>\n",
       "      <th>POB5</th>\n",
       "      <th>...</th>\n",
       "      <th>VIV37</th>\n",
       "      <th>VIV37_R</th>\n",
       "      <th>VIV38</th>\n",
       "      <th>VIV38_R</th>\n",
       "      <th>VIV39</th>\n",
       "      <th>VIV39_R</th>\n",
       "      <th>VIV40</th>\n",
       "      <th>VIV40_R</th>\n",
       "      <th>VIV41</th>\n",
       "      <th>VIV41_R</th>\n",
       "    </tr>\n",
       "  </thead>\n",
       "  <tbody>\n",
       "    <tr>\n",
       "      <th>0</th>\n",
       "      <td>190010001</td>\n",
       "      <td>Abasolo</td>\n",
       "      <td>1976</td>\n",
       "      <td>107</td>\n",
       "      <td>5.4</td>\n",
       "      <td>176</td>\n",
       "      <td>8.9</td>\n",
       "      <td>101</td>\n",
       "      <td>5.1</td>\n",
       "      <td>228</td>\n",
       "      <td>...</td>\n",
       "      <td>5</td>\n",
       "      <td>1.0</td>\n",
       "      <td>77</td>\n",
       "      <td>15.3</td>\n",
       "      <td>383</td>\n",
       "      <td>76.0</td>\n",
       "      <td>5</td>\n",
       "      <td>1.0</td>\n",
       "      <td>-6</td>\n",
       "      <td>-6.0</td>\n",
       "    </tr>\n",
       "    <tr>\n",
       "      <th>1</th>\n",
       "      <td>190020001</td>\n",
       "      <td>Agualeguas</td>\n",
       "      <td>1995</td>\n",
       "      <td>80</td>\n",
       "      <td>4.0</td>\n",
       "      <td>140</td>\n",
       "      <td>7.0</td>\n",
       "      <td>92</td>\n",
       "      <td>4.6</td>\n",
       "      <td>190</td>\n",
       "      <td>...</td>\n",
       "      <td>10</td>\n",
       "      <td>1.5</td>\n",
       "      <td>103</td>\n",
       "      <td>15.4</td>\n",
       "      <td>520</td>\n",
       "      <td>77.7</td>\n",
       "      <td>8</td>\n",
       "      <td>1.2</td>\n",
       "      <td>5</td>\n",
       "      <td>0.7</td>\n",
       "    </tr>\n",
       "    <tr>\n",
       "      <th>2</th>\n",
       "      <td>190030001</td>\n",
       "      <td>Los Aldamas</td>\n",
       "      <td>545</td>\n",
       "      <td>19</td>\n",
       "      <td>3.5</td>\n",
       "      <td>31</td>\n",
       "      <td>5.7</td>\n",
       "      <td>17</td>\n",
       "      <td>3.1</td>\n",
       "      <td>42</td>\n",
       "      <td>...</td>\n",
       "      <td>3</td>\n",
       "      <td>1.6</td>\n",
       "      <td>20</td>\n",
       "      <td>10.5</td>\n",
       "      <td>164</td>\n",
       "      <td>85.9</td>\n",
       "      <td>3</td>\n",
       "      <td>1.6</td>\n",
       "      <td>0</td>\n",
       "      <td>0.0</td>\n",
       "    </tr>\n",
       "    <tr>\n",
       "      <th>3</th>\n",
       "      <td>190040001</td>\n",
       "      <td>Ciudad de Allende</td>\n",
       "      <td>26065</td>\n",
       "      <td>1408</td>\n",
       "      <td>5.4</td>\n",
       "      <td>2307</td>\n",
       "      <td>8.9</td>\n",
       "      <td>1383</td>\n",
       "      <td>5.3</td>\n",
       "      <td>3101</td>\n",
       "      <td>...</td>\n",
       "      <td>56</td>\n",
       "      <td>0.8</td>\n",
       "      <td>683</td>\n",
       "      <td>9.3</td>\n",
       "      <td>4621</td>\n",
       "      <td>63.1</td>\n",
       "      <td>30</td>\n",
       "      <td>0.4</td>\n",
       "      <td>15</td>\n",
       "      <td>0.2</td>\n",
       "    </tr>\n",
       "    <tr>\n",
       "      <th>4</th>\n",
       "      <td>190050001</td>\n",
       "      <td>An�huac</td>\n",
       "      <td>16628</td>\n",
       "      <td>902</td>\n",
       "      <td>5.4</td>\n",
       "      <td>1533</td>\n",
       "      <td>9.2</td>\n",
       "      <td>954</td>\n",
       "      <td>5.7</td>\n",
       "      <td>1988</td>\n",
       "      <td>...</td>\n",
       "      <td>52</td>\n",
       "      <td>1.2</td>\n",
       "      <td>731</td>\n",
       "      <td>17.2</td>\n",
       "      <td>3287</td>\n",
       "      <td>77.2</td>\n",
       "      <td>31</td>\n",
       "      <td>0.7</td>\n",
       "      <td>16</td>\n",
       "      <td>0.4</td>\n",
       "    </tr>\n",
       "  </tbody>\n",
       "</table>\n",
       "<p>5 rows × 625 columns</p>\n",
       "</div>"
      ],
      "text/plain": [
       "      CVEGEO             NOMBRE   POB1  POB2  POB2_R  POB3  POB3_R  POB4  \\\n",
       "0  190010001            Abasolo   1976   107     5.4   176     8.9   101   \n",
       "1  190020001         Agualeguas   1995    80     4.0   140     7.0    92   \n",
       "2  190030001        Los Aldamas    545    19     3.5    31     5.7    17   \n",
       "3  190040001  Ciudad de Allende  26065  1408     5.4  2307     8.9  1383   \n",
       "4  190050001            An�huac  16628   902     5.4  1533     9.2   954   \n",
       "\n",
       "   POB4_R  POB5  ...  VIV37  VIV37_R  VIV38  VIV38_R  VIV39  VIV39_R  VIV40  \\\n",
       "0     5.1   228  ...      5      1.0     77     15.3    383     76.0      5   \n",
       "1     4.6   190  ...     10      1.5    103     15.4    520     77.7      8   \n",
       "2     3.1    42  ...      3      1.6     20     10.5    164     85.9      3   \n",
       "3     5.3  3101  ...     56      0.8    683      9.3   4621     63.1     30   \n",
       "4     5.7  1988  ...     52      1.2    731     17.2   3287     77.2     31   \n",
       "\n",
       "   VIV40_R  VIV41  VIV41_R  \n",
       "0      1.0     -6     -6.0  \n",
       "1      1.2      5      0.7  \n",
       "2      1.6      0      0.0  \n",
       "3      0.4     15      0.2  \n",
       "4      0.7     16      0.4  \n",
       "\n",
       "[5 rows x 625 columns]"
      ]
     },
     "execution_count": 2,
     "metadata": {},
     "output_type": "execute_result"
    }
   ],
   "source": [
    "#leemos los datos del censo en Nuevo León en el año 2010\n",
    "censo_nl = pd.read_csv('censo_nl.csv')\n",
    "#censo_nl = censo_nl.set_index('CVEGEO')\n",
    "censo_nl.head()"
   ]
  },
  {
   "cell_type": "markdown",
   "id": "decimal-apartment",
   "metadata": {},
   "source": [
    "## Código geográfico y nombres"
   ]
  },
  {
   "cell_type": "code",
   "execution_count": 3,
   "id": "restricted-honolulu",
   "metadata": {
    "ExecuteTime": {
     "end_time": "2021-02-22T04:36:50.637650Z",
     "start_time": "2021-02-22T04:36:50.626095Z"
    }
   },
   "outputs": [],
   "source": [
    "codigo_geo = list(censo_nl.loc[:,'CVEGEO'])\n",
    "localidad = list(censo_nl.NOMBRE)"
   ]
  },
  {
   "cell_type": "markdown",
   "id": "understanding-driving",
   "metadata": {},
   "source": [
    "## Porcentaje de población de 15 años o más analfabeta"
   ]
  },
  {
   "cell_type": "code",
   "execution_count": 4,
   "id": "framed-amateur",
   "metadata": {
    "ExecuteTime": {
     "end_time": "2021-02-22T04:36:50.651681Z",
     "start_time": "2021-02-22T04:36:50.641602Z"
    }
   },
   "outputs": [
    {
     "data": {
      "text/plain": [
       "array([ 36,  82,  33, 439, 417])"
      ]
     },
     "execution_count": 4,
     "metadata": {},
     "output_type": "execute_result"
    }
   ],
   "source": [
    "p_anal = np.array(censo_nl.EDU28) #población analfabeta de 15 años o más\n",
    "p_anal[:5] "
   ]
  },
  {
   "cell_type": "code",
   "execution_count": 5,
   "id": "spare-aircraft",
   "metadata": {
    "ExecuteTime": {
     "end_time": "2021-02-22T04:36:50.667506Z",
     "start_time": "2021-02-22T04:36:50.655667Z"
    },
    "scrolled": true
   },
   "outputs": [
    {
     "data": {
      "text/plain": [
       "array([ 1352,  1534,   438, 18460, 10961])"
      ]
     },
     "execution_count": 5,
     "metadata": {},
     "output_type": "execute_result"
    }
   ],
   "source": [
    "p_15 = np.array(censo_nl.POB20) #la población de 15 años o más\n",
    "p_15[:5]"
   ]
  },
  {
   "cell_type": "markdown",
   "id": "incredible-snowboard",
   "metadata": {},
   "source": [
    "## Porcentaje de población de 15 años o más sin primaria completa"
   ]
  },
  {
   "cell_type": "code",
   "execution_count": 6,
   "id": "sudden-cedar",
   "metadata": {
    "ExecuteTime": {
     "end_time": "2021-02-22T04:36:50.862390Z",
     "start_time": "2021-02-22T04:36:50.856272Z"
    }
   },
   "outputs": [],
   "source": [
    "p_15_se = np.array(censo_nl.EDU31)    #población de 15 años o más sin escolaridad,\n",
    "p_15_pi = np.array(censo_nl.EDU34)    # población de 15 años o más con primaria incompleta\n",
    "p_15_pc = np.array(censo_nl.EDU37)    # población de 15 años o más con primaria completa\n",
    "p_15_si = np.array(censo_nl.ECO13)    # población de 15 años o más con secundaria incompleta\n",
    "p_15_sc = np.array(censo_nl.ECO16)    # población de 15 años o más con secundaria completa \n",
    "p_15_pb = np.array(censo_nl.EDU40)    # población de 18 años o más con educación pos-básica"
   ]
  },
  {
   "cell_type": "markdown",
   "id": "worldwide-writer",
   "metadata": {},
   "source": [
    "## Porcentaje de viviendas particulares habitadas sin excusado"
   ]
  },
  {
   "cell_type": "code",
   "execution_count": 7,
   "id": "subjective-vector",
   "metadata": {
    "ExecuteTime": {
     "end_time": "2021-02-22T04:36:51.276191Z",
     "start_time": "2021-02-22T04:36:51.270572Z"
    }
   },
   "outputs": [],
   "source": [
    "viviendas_totales = np.array(censo_nl.HOGAR1)        # viviendas particulares habitadas totales \n",
    "viviendas_con_escusado = np.array(censo_nl.VIV19)    # viviendas particulares habitadas totales que disponen de excusado"
   ]
  },
  {
   "cell_type": "markdown",
   "id": "measured-lending",
   "metadata": {},
   "source": [
    "## Porcentaje de viviendas particulares habitadas sin energía eléctrica"
   ]
  },
  {
   "cell_type": "code",
   "execution_count": 8,
   "id": "offshore-green",
   "metadata": {
    "ExecuteTime": {
     "end_time": "2021-02-22T04:36:51.643421Z",
     "start_time": "2021-02-22T04:36:51.638226Z"
    }
   },
   "outputs": [],
   "source": [
    "viviendas_sin_luz = np.array(censo_nl.VIV15)\n",
    "viviendas_con_luz = np.array(censo_nl.VIV14)"
   ]
  },
  {
   "cell_type": "markdown",
   "id": "satisfactory-applicant",
   "metadata": {},
   "source": [
    "## Porcentaje de viviendas particulares habitadas sin disponibilidad de agua entubada"
   ]
  },
  {
   "cell_type": "code",
   "execution_count": 9,
   "id": "intellectual-enlargement",
   "metadata": {
    "ExecuteTime": {
     "end_time": "2021-02-22T04:36:52.060250Z",
     "start_time": "2021-02-22T04:36:52.045630Z"
    }
   },
   "outputs": [
    {
     "name": "stdout",
     "output_type": "stream",
     "text": [
      "[ 498  659  185 7168 4161] [-6  7  5 92 89]\n"
     ]
    }
   ],
   "source": [
    "viviendas_entubadas = np.array(censo_nl.VIV16)\n",
    "viviendas_no_entubadas = np.array(censo_nl.VIV17)\n",
    "print(viviendas_entubadas[:5],viviendas_no_entubadas[:5])"
   ]
  },
  {
   "cell_type": "markdown",
   "id": "animal-venice",
   "metadata": {},
   "source": [
    "## Promedio de ocupantes por cuarto en viviendas particulares habitadas"
   ]
  },
  {
   "cell_type": "code",
   "execution_count": 10,
   "id": "studied-height",
   "metadata": {
    "ExecuteTime": {
     "end_time": "2021-02-22T04:36:52.452772Z",
     "start_time": "2021-02-22T04:36:52.448479Z"
    }
   },
   "outputs": [],
   "source": [
    "ocupantes_por_cuarto = np.array(censo_nl.VIV5_R)\n",
    "i_6 = ocupantes_por_cuarto.copy()"
   ]
  },
  {
   "cell_type": "markdown",
   "id": "acquired-causing",
   "metadata": {},
   "source": [
    "## Porcentaje de viviendas particulares habitadas con piso de tierra"
   ]
  },
  {
   "cell_type": "code",
   "execution_count": 11,
   "id": "conservative-symposium",
   "metadata": {
    "ExecuteTime": {
     "end_time": "2021-02-22T04:36:52.806232Z",
     "start_time": "2021-02-22T04:36:52.797604Z"
    }
   },
   "outputs": [],
   "source": [
    "viviendas_tierra = np.array(censo_nl.VIV6_R) \n",
    "i_7 = viviendas_tierra"
   ]
  },
  {
   "cell_type": "markdown",
   "id": "prescription-continent",
   "metadata": {},
   "source": [
    "## Porcentaje de viviendas particulares habitadas que no disponen de refrigerador"
   ]
  },
  {
   "cell_type": "code",
   "execution_count": 12,
   "id": "sophisticated-motion",
   "metadata": {
    "ExecuteTime": {
     "end_time": "2021-02-22T04:36:53.175598Z",
     "start_time": "2021-02-22T04:36:53.171001Z"
    }
   },
   "outputs": [],
   "source": [
    "viviendas_con_refri = np.array(censo_nl.VIV26) "
   ]
  },
  {
   "cell_type": "markdown",
   "id": "middle-ordinary",
   "metadata": {
    "ExecuteTime": {
     "end_time": "2021-02-20T19:52:01.057327Z",
     "start_time": "2021-02-20T19:52:01.050390Z"
    }
   },
   "source": [
    "# Limpiando datos"
   ]
  },
  {
   "cell_type": "markdown",
   "id": "exposed-drunk",
   "metadata": {
    "ExecuteTime": {
     "end_time": "2021-02-21T03:21:28.999522Z",
     "start_time": "2021-02-21T03:21:28.993363Z"
    }
   },
   "source": [
    "**Recalculando un dataframe con las variables necesarias**"
   ]
  },
  {
   "cell_type": "code",
   "execution_count": 13,
   "id": "municipal-sister",
   "metadata": {
    "ExecuteTime": {
     "end_time": "2021-02-22T04:36:53.771176Z",
     "start_time": "2021-02-22T04:36:53.715219Z"
    }
   },
   "outputs": [
    {
     "data": {
      "text/html": [
       "<div>\n",
       "<style scoped>\n",
       "    .dataframe tbody tr th:only-of-type {\n",
       "        vertical-align: middle;\n",
       "    }\n",
       "\n",
       "    .dataframe tbody tr th {\n",
       "        vertical-align: top;\n",
       "    }\n",
       "\n",
       "    .dataframe thead th {\n",
       "        text-align: right;\n",
       "    }\n",
       "</style>\n",
       "<table border=\"1\" class=\"dataframe\">\n",
       "  <thead>\n",
       "    <tr style=\"text-align: right;\">\n",
       "      <th></th>\n",
       "      <th>localidad</th>\n",
       "      <th>p_anal</th>\n",
       "      <th>p_15</th>\n",
       "      <th>p_15_se</th>\n",
       "      <th>p_15_pi</th>\n",
       "      <th>p_15_pc</th>\n",
       "      <th>p_15_si</th>\n",
       "      <th>p_15_sc</th>\n",
       "      <th>p_15_pb</th>\n",
       "      <th>viviendas_totales</th>\n",
       "      <th>viviendas_con_escusado</th>\n",
       "      <th>viviendas_sin_luz</th>\n",
       "      <th>viviendas_con_luz</th>\n",
       "      <th>viviendas_entubadas</th>\n",
       "      <th>viviendas_no_entubadas</th>\n",
       "      <th>ocupantes_por_cuarto</th>\n",
       "      <th>viviendas_tierra</th>\n",
       "      <th>viviendas_con_refri</th>\n",
       "    </tr>\n",
       "    <tr>\n",
       "      <th>codigo_geo</th>\n",
       "      <th></th>\n",
       "      <th></th>\n",
       "      <th></th>\n",
       "      <th></th>\n",
       "      <th></th>\n",
       "      <th></th>\n",
       "      <th></th>\n",
       "      <th></th>\n",
       "      <th></th>\n",
       "      <th></th>\n",
       "      <th></th>\n",
       "      <th></th>\n",
       "      <th></th>\n",
       "      <th></th>\n",
       "      <th></th>\n",
       "      <th></th>\n",
       "      <th></th>\n",
       "      <th></th>\n",
       "    </tr>\n",
       "  </thead>\n",
       "  <tbody>\n",
       "    <tr>\n",
       "      <th>190010001</th>\n",
       "      <td>Abasolo</td>\n",
       "      <td>36</td>\n",
       "      <td>1352</td>\n",
       "      <td>55</td>\n",
       "      <td>503</td>\n",
       "      <td>403</td>\n",
       "      <td>49</td>\n",
       "      <td>244</td>\n",
       "      <td>380</td>\n",
       "      <td>504</td>\n",
       "      <td>494</td>\n",
       "      <td>5</td>\n",
       "      <td>496</td>\n",
       "      <td>498</td>\n",
       "      <td>-6</td>\n",
       "      <td>1.0</td>\n",
       "      <td>-6.0</td>\n",
       "      <td>473</td>\n",
       "    </tr>\n",
       "    <tr>\n",
       "      <th>190020001</th>\n",
       "      <td>Agualeguas</td>\n",
       "      <td>82</td>\n",
       "      <td>1534</td>\n",
       "      <td>119</td>\n",
       "      <td>736</td>\n",
       "      <td>287</td>\n",
       "      <td>50</td>\n",
       "      <td>174</td>\n",
       "      <td>386</td>\n",
       "      <td>669</td>\n",
       "      <td>657</td>\n",
       "      <td>6</td>\n",
       "      <td>660</td>\n",
       "      <td>659</td>\n",
       "      <td>7</td>\n",
       "      <td>0.8</td>\n",
       "      <td>-6.0</td>\n",
       "      <td>646</td>\n",
       "    </tr>\n",
       "    <tr>\n",
       "      <th>190030001</th>\n",
       "      <td>Los Aldamas</td>\n",
       "      <td>33</td>\n",
       "      <td>438</td>\n",
       "      <td>34</td>\n",
       "      <td>261</td>\n",
       "      <td>85</td>\n",
       "      <td>3</td>\n",
       "      <td>43</td>\n",
       "      <td>57</td>\n",
       "      <td>191</td>\n",
       "      <td>185</td>\n",
       "      <td>0</td>\n",
       "      <td>191</td>\n",
       "      <td>185</td>\n",
       "      <td>5</td>\n",
       "      <td>0.7</td>\n",
       "      <td>-6.0</td>\n",
       "      <td>187</td>\n",
       "    </tr>\n",
       "    <tr>\n",
       "      <th>190040001</th>\n",
       "      <td>Ciudad de Allende</td>\n",
       "      <td>439</td>\n",
       "      <td>18460</td>\n",
       "      <td>502</td>\n",
       "      <td>7343</td>\n",
       "      <td>5056</td>\n",
       "      <td>468</td>\n",
       "      <td>3375</td>\n",
       "      <td>5440</td>\n",
       "      <td>7323</td>\n",
       "      <td>7218</td>\n",
       "      <td>9</td>\n",
       "      <td>7281</td>\n",
       "      <td>7168</td>\n",
       "      <td>92</td>\n",
       "      <td>0.9</td>\n",
       "      <td>1.5</td>\n",
       "      <td>7082</td>\n",
       "    </tr>\n",
       "    <tr>\n",
       "      <th>190050001</th>\n",
       "      <td>An�huac</td>\n",
       "      <td>417</td>\n",
       "      <td>10961</td>\n",
       "      <td>509</td>\n",
       "      <td>5039</td>\n",
       "      <td>2233</td>\n",
       "      <td>270</td>\n",
       "      <td>1293</td>\n",
       "      <td>3096</td>\n",
       "      <td>4256</td>\n",
       "      <td>4157</td>\n",
       "      <td>38</td>\n",
       "      <td>4213</td>\n",
       "      <td>4161</td>\n",
       "      <td>89</td>\n",
       "      <td>-6.0</td>\n",
       "      <td>3.1</td>\n",
       "      <td>3997</td>\n",
       "    </tr>\n",
       "  </tbody>\n",
       "</table>\n",
       "</div>"
      ],
      "text/plain": [
       "                    localidad  p_anal   p_15  p_15_se  p_15_pi  p_15_pc  \\\n",
       "codigo_geo                                                                \n",
       "190010001             Abasolo      36   1352       55      503      403   \n",
       "190020001          Agualeguas      82   1534      119      736      287   \n",
       "190030001         Los Aldamas      33    438       34      261       85   \n",
       "190040001   Ciudad de Allende     439  18460      502     7343     5056   \n",
       "190050001             An�huac     417  10961      509     5039     2233   \n",
       "\n",
       "            p_15_si  p_15_sc  p_15_pb  viviendas_totales  \\\n",
       "codigo_geo                                                 \n",
       "190010001        49      244      380                504   \n",
       "190020001        50      174      386                669   \n",
       "190030001         3       43       57                191   \n",
       "190040001       468     3375     5440               7323   \n",
       "190050001       270     1293     3096               4256   \n",
       "\n",
       "            viviendas_con_escusado  viviendas_sin_luz  viviendas_con_luz  \\\n",
       "codigo_geo                                                                 \n",
       "190010001                      494                  5                496   \n",
       "190020001                      657                  6                660   \n",
       "190030001                      185                  0                191   \n",
       "190040001                     7218                  9               7281   \n",
       "190050001                     4157                 38               4213   \n",
       "\n",
       "            viviendas_entubadas  viviendas_no_entubadas  ocupantes_por_cuarto  \\\n",
       "codigo_geo                                                                      \n",
       "190010001                   498                      -6                   1.0   \n",
       "190020001                   659                       7                   0.8   \n",
       "190030001                   185                       5                   0.7   \n",
       "190040001                  7168                      92                   0.9   \n",
       "190050001                  4161                      89                  -6.0   \n",
       "\n",
       "            viviendas_tierra  viviendas_con_refri  \n",
       "codigo_geo                                         \n",
       "190010001               -6.0                  473  \n",
       "190020001               -6.0                  646  \n",
       "190030001               -6.0                  187  \n",
       "190040001                1.5                 7082  \n",
       "190050001                3.1                 3997  "
      ]
     },
     "execution_count": 13,
     "metadata": {},
     "output_type": "execute_result"
    }
   ],
   "source": [
    "censo_nl_nuevo = pd.DataFrame({'codigo_geo':codigo_geo,'localidad':localidad,'p_anal':p_anal,\n",
    "                              'p_15':p_15,'p_15_se':p_15_se,'p_15_pi':p_15_pi,'p_15_pc':p_15_pc,\n",
    "                               'p_15_si':p_15_si,'p_15_sc':p_15_sc,'p_15_pb':p_15_pb,\n",
    "                               'viviendas_totales':viviendas_totales,'viviendas_con_escusado':viviendas_con_escusado,\n",
    "                               'viviendas_sin_luz':viviendas_sin_luz,'viviendas_con_luz':viviendas_con_luz,\n",
    "                               'viviendas_entubadas':viviendas_entubadas,'viviendas_no_entubadas':viviendas_no_entubadas\n",
    "                               ,'ocupantes_por_cuarto':ocupantes_por_cuarto,'viviendas_tierra':viviendas_tierra,\n",
    "                               'viviendas_con_refri':viviendas_con_refri})\n",
    "censo_nl_nuevo = censo_nl_nuevo.set_index('codigo_geo')\n",
    "censo_nl_nuevo.head()"
   ]
  },
  {
   "cell_type": "code",
   "execution_count": 14,
   "id": "blank-cheat",
   "metadata": {
    "ExecuteTime": {
     "end_time": "2021-02-22T04:36:53.868136Z",
     "start_time": "2021-02-22T04:36:53.864245Z"
    }
   },
   "outputs": [],
   "source": [
    "v_interes = ['codigo_geo', 'localidad', 'p_anal', 'p_15', 'p_15_se', 'p_15_pi', 'p_15_pc', 'p_15_si', 'p_15_sc', 'p_15_pb',\n",
    " 'viviendas_totales', 'viviendas_con_escusado', 'viviendas_sin_luz', 'viviendas_con_luz', 'viviendas_entubadas',\n",
    " 'viviendas_no_entubadas', 'ocupantes_por_cuarto', 'viviendas_tierra', 'viviendas_con_refri']"
   ]
  },
  {
   "cell_type": "markdown",
   "id": "secret-visibility",
   "metadata": {},
   "source": [
    "Notemos que los hay algunas filas que hacen imposible calcular los indicadores económicos necesarios para la obtención del índice de marginalidad. Por ejemplo, veamos la siguiente localidad (**La placeta**):"
   ]
  },
  {
   "cell_type": "code",
   "execution_count": 15,
   "id": "major-filling",
   "metadata": {
    "ExecuteTime": {
     "end_time": "2021-02-22T04:36:54.259550Z",
     "start_time": "2021-02-22T04:36:54.236989Z"
    }
   },
   "outputs": [
    {
     "data": {
      "text/plain": [
       "localidad                 La Placeta\n",
       "p_anal                            -6\n",
       "p_15                              -6\n",
       "p_15_se                           -6\n",
       "p_15_pi                           -6\n",
       "p_15_pc                           -6\n",
       "p_15_si                           -6\n",
       "p_15_sc                           -6\n",
       "p_15_pb                           -6\n",
       "viviendas_totales                 -6\n",
       "viviendas_con_escusado            -6\n",
       "viviendas_sin_luz                 -6\n",
       "viviendas_con_luz                 -6\n",
       "viviendas_entubadas               -6\n",
       "viviendas_no_entubadas            -6\n",
       "ocupantes_por_cuarto            -6.0\n",
       "viviendas_tierra                -6.0\n",
       "viviendas_con_refri               -6\n",
       "Name: 190010037, dtype: object"
      ]
     },
     "execution_count": 15,
     "metadata": {},
     "output_type": "execute_result"
    }
   ],
   "source": [
    "censo_nl_nuevo.loc[190010037]"
   ]
  },
  {
   "cell_type": "markdown",
   "id": "passive-dictionary",
   "metadata": {},
   "source": [
    "Esto hace que tengamos que borrar estos datos, pues imputarlos, sería sesgar la información que verdaderamente\n",
    "hacen relación a la localidad."
   ]
  },
  {
   "cell_type": "markdown",
   "id": "interim-cream",
   "metadata": {},
   "source": [
    "## Eliminación de datos no imputables"
   ]
  },
  {
   "cell_type": "markdown",
   "id": "exclusive-russell",
   "metadata": {},
   "source": [
    "Se sabe que los datos negativos representan valores *NAN*, así, procedemos a identificarlos:"
   ]
  },
  {
   "cell_type": "code",
   "execution_count": 16,
   "id": "seven-steering",
   "metadata": {
    "ExecuteTime": {
     "end_time": "2021-02-22T04:36:55.427800Z",
     "start_time": "2021-02-22T04:36:54.992319Z"
    }
   },
   "outputs": [],
   "source": [
    "fila_negativa_6 = censo_nl_nuevo.iloc[:,1:].apply(mean, axis=1) == -6 #filas con -6 como entradas"
   ]
  },
  {
   "cell_type": "code",
   "execution_count": 17,
   "id": "binary-innocent",
   "metadata": {
    "ExecuteTime": {
     "end_time": "2021-02-22T04:36:55.444330Z",
     "start_time": "2021-02-22T04:36:55.430522Z"
    }
   },
   "outputs": [
    {
     "data": {
      "text/plain": [
       "(2082, 18)"
      ]
     },
     "execution_count": 17,
     "metadata": {},
     "output_type": "execute_result"
    }
   ],
   "source": [
    "indices_no_negativos_6 = np.where(fila_negativa_6 == False) #seleccionamos los índices que no son negativos\n",
    "censo_nl_nuevo = censo_nl_nuevo.iloc[indices_no_negativos_6]\n",
    "censo_nl_nuevo.shape"
   ]
  },
  {
   "cell_type": "code",
   "execution_count": 18,
   "id": "occupied-organization",
   "metadata": {
    "ExecuteTime": {
     "end_time": "2021-02-22T04:36:55.664164Z",
     "start_time": "2021-02-22T04:36:55.448107Z"
    }
   },
   "outputs": [
    {
     "data": {
      "text/html": [
       "<div>\n",
       "<style scoped>\n",
       "    .dataframe tbody tr th:only-of-type {\n",
       "        vertical-align: middle;\n",
       "    }\n",
       "\n",
       "    .dataframe tbody tr th {\n",
       "        vertical-align: top;\n",
       "    }\n",
       "\n",
       "    .dataframe thead th {\n",
       "        text-align: right;\n",
       "    }\n",
       "</style>\n",
       "<table border=\"1\" class=\"dataframe\">\n",
       "  <thead>\n",
       "    <tr style=\"text-align: right;\">\n",
       "      <th></th>\n",
       "      <th>localidad</th>\n",
       "      <th>p_anal</th>\n",
       "      <th>p_15</th>\n",
       "      <th>p_15_se</th>\n",
       "      <th>p_15_pi</th>\n",
       "      <th>p_15_pc</th>\n",
       "      <th>p_15_si</th>\n",
       "      <th>p_15_sc</th>\n",
       "      <th>p_15_pb</th>\n",
       "      <th>viviendas_totales</th>\n",
       "      <th>viviendas_con_escusado</th>\n",
       "      <th>viviendas_sin_luz</th>\n",
       "      <th>viviendas_con_luz</th>\n",
       "      <th>viviendas_entubadas</th>\n",
       "      <th>viviendas_no_entubadas</th>\n",
       "      <th>ocupantes_por_cuarto</th>\n",
       "      <th>viviendas_tierra</th>\n",
       "      <th>viviendas_con_refri</th>\n",
       "    </tr>\n",
       "    <tr>\n",
       "      <th>codigo_geo</th>\n",
       "      <th></th>\n",
       "      <th></th>\n",
       "      <th></th>\n",
       "      <th></th>\n",
       "      <th></th>\n",
       "      <th></th>\n",
       "      <th></th>\n",
       "      <th></th>\n",
       "      <th></th>\n",
       "      <th></th>\n",
       "      <th></th>\n",
       "      <th></th>\n",
       "      <th></th>\n",
       "      <th></th>\n",
       "      <th></th>\n",
       "      <th></th>\n",
       "      <th></th>\n",
       "      <th></th>\n",
       "    </tr>\n",
       "  </thead>\n",
       "  <tbody>\n",
       "    <tr>\n",
       "      <th>190010001</th>\n",
       "      <td>Abasolo</td>\n",
       "      <td>36</td>\n",
       "      <td>1352</td>\n",
       "      <td>55</td>\n",
       "      <td>503</td>\n",
       "      <td>403</td>\n",
       "      <td>49</td>\n",
       "      <td>244</td>\n",
       "      <td>380</td>\n",
       "      <td>504</td>\n",
       "      <td>494</td>\n",
       "      <td>5</td>\n",
       "      <td>496</td>\n",
       "      <td>498</td>\n",
       "      <td>-6</td>\n",
       "      <td>1.0</td>\n",
       "      <td>-6.0</td>\n",
       "      <td>473</td>\n",
       "    </tr>\n",
       "    <tr>\n",
       "      <th>190020001</th>\n",
       "      <td>Agualeguas</td>\n",
       "      <td>82</td>\n",
       "      <td>1534</td>\n",
       "      <td>119</td>\n",
       "      <td>736</td>\n",
       "      <td>287</td>\n",
       "      <td>50</td>\n",
       "      <td>174</td>\n",
       "      <td>386</td>\n",
       "      <td>669</td>\n",
       "      <td>657</td>\n",
       "      <td>6</td>\n",
       "      <td>660</td>\n",
       "      <td>659</td>\n",
       "      <td>7</td>\n",
       "      <td>0.8</td>\n",
       "      <td>-6.0</td>\n",
       "      <td>646</td>\n",
       "    </tr>\n",
       "    <tr>\n",
       "      <th>190030001</th>\n",
       "      <td>Los Aldamas</td>\n",
       "      <td>33</td>\n",
       "      <td>438</td>\n",
       "      <td>34</td>\n",
       "      <td>261</td>\n",
       "      <td>85</td>\n",
       "      <td>3</td>\n",
       "      <td>43</td>\n",
       "      <td>57</td>\n",
       "      <td>191</td>\n",
       "      <td>185</td>\n",
       "      <td>0</td>\n",
       "      <td>191</td>\n",
       "      <td>185</td>\n",
       "      <td>5</td>\n",
       "      <td>0.7</td>\n",
       "      <td>-6.0</td>\n",
       "      <td>187</td>\n",
       "    </tr>\n",
       "    <tr>\n",
       "      <th>190040001</th>\n",
       "      <td>Ciudad de Allende</td>\n",
       "      <td>439</td>\n",
       "      <td>18460</td>\n",
       "      <td>502</td>\n",
       "      <td>7343</td>\n",
       "      <td>5056</td>\n",
       "      <td>468</td>\n",
       "      <td>3375</td>\n",
       "      <td>5440</td>\n",
       "      <td>7323</td>\n",
       "      <td>7218</td>\n",
       "      <td>9</td>\n",
       "      <td>7281</td>\n",
       "      <td>7168</td>\n",
       "      <td>92</td>\n",
       "      <td>0.9</td>\n",
       "      <td>1.5</td>\n",
       "      <td>7082</td>\n",
       "    </tr>\n",
       "    <tr>\n",
       "      <th>190050001</th>\n",
       "      <td>An�huac</td>\n",
       "      <td>417</td>\n",
       "      <td>10961</td>\n",
       "      <td>509</td>\n",
       "      <td>5039</td>\n",
       "      <td>2233</td>\n",
       "      <td>270</td>\n",
       "      <td>1293</td>\n",
       "      <td>3096</td>\n",
       "      <td>4256</td>\n",
       "      <td>4157</td>\n",
       "      <td>38</td>\n",
       "      <td>4213</td>\n",
       "      <td>4161</td>\n",
       "      <td>89</td>\n",
       "      <td>-6.0</td>\n",
       "      <td>3.1</td>\n",
       "      <td>3997</td>\n",
       "    </tr>\n",
       "    <tr>\n",
       "      <th>...</th>\n",
       "      <td>...</td>\n",
       "      <td>...</td>\n",
       "      <td>...</td>\n",
       "      <td>...</td>\n",
       "      <td>...</td>\n",
       "      <td>...</td>\n",
       "      <td>...</td>\n",
       "      <td>...</td>\n",
       "      <td>...</td>\n",
       "      <td>...</td>\n",
       "      <td>...</td>\n",
       "      <td>...</td>\n",
       "      <td>...</td>\n",
       "      <td>...</td>\n",
       "      <td>...</td>\n",
       "      <td>...</td>\n",
       "      <td>...</td>\n",
       "      <td>...</td>\n",
       "    </tr>\n",
       "    <tr>\n",
       "      <th>190510017</th>\n",
       "      <td>El Potrero</td>\n",
       "      <td>20</td>\n",
       "      <td>481</td>\n",
       "      <td>21</td>\n",
       "      <td>264</td>\n",
       "      <td>121</td>\n",
       "      <td>4</td>\n",
       "      <td>57</td>\n",
       "      <td>73</td>\n",
       "      <td>223</td>\n",
       "      <td>218</td>\n",
       "      <td>-6</td>\n",
       "      <td>219</td>\n",
       "      <td>218</td>\n",
       "      <td>5</td>\n",
       "      <td>0.8</td>\n",
       "      <td>-6.0</td>\n",
       "      <td>214</td>\n",
       "    </tr>\n",
       "    <tr>\n",
       "      <th>190510020</th>\n",
       "      <td>El Salto</td>\n",
       "      <td>-6</td>\n",
       "      <td>13</td>\n",
       "      <td>-6</td>\n",
       "      <td>10</td>\n",
       "      <td>-6</td>\n",
       "      <td>-6</td>\n",
       "      <td>-6</td>\n",
       "      <td>0</td>\n",
       "      <td>5</td>\n",
       "      <td>5</td>\n",
       "      <td>0</td>\n",
       "      <td>5</td>\n",
       "      <td>5</td>\n",
       "      <td>0</td>\n",
       "      <td>0.9</td>\n",
       "      <td>-6.0</td>\n",
       "      <td>5</td>\n",
       "    </tr>\n",
       "    <tr>\n",
       "      <th>190510022</th>\n",
       "      <td>Hacienda Santa Fe</td>\n",
       "      <td>3</td>\n",
       "      <td>118</td>\n",
       "      <td>4</td>\n",
       "      <td>63</td>\n",
       "      <td>24</td>\n",
       "      <td>-6</td>\n",
       "      <td>14</td>\n",
       "      <td>26</td>\n",
       "      <td>52</td>\n",
       "      <td>50</td>\n",
       "      <td>-6</td>\n",
       "      <td>51</td>\n",
       "      <td>49</td>\n",
       "      <td>3</td>\n",
       "      <td>0.8</td>\n",
       "      <td>-6.0</td>\n",
       "      <td>51</td>\n",
       "    </tr>\n",
       "    <tr>\n",
       "      <th>190510023</th>\n",
       "      <td>Santa Isabel</td>\n",
       "      <td>6</td>\n",
       "      <td>127</td>\n",
       "      <td>9</td>\n",
       "      <td>44</td>\n",
       "      <td>38</td>\n",
       "      <td>4</td>\n",
       "      <td>18</td>\n",
       "      <td>35</td>\n",
       "      <td>55</td>\n",
       "      <td>54</td>\n",
       "      <td>0</td>\n",
       "      <td>55</td>\n",
       "      <td>55</td>\n",
       "      <td>0</td>\n",
       "      <td>0.9</td>\n",
       "      <td>0.0</td>\n",
       "      <td>54</td>\n",
       "    </tr>\n",
       "    <tr>\n",
       "      <th>190510055</th>\n",
       "      <td>La Higuera (Higueras)</td>\n",
       "      <td>0</td>\n",
       "      <td>10</td>\n",
       "      <td>0</td>\n",
       "      <td>7</td>\n",
       "      <td>-6</td>\n",
       "      <td>0</td>\n",
       "      <td>-6</td>\n",
       "      <td>-6</td>\n",
       "      <td>4</td>\n",
       "      <td>4</td>\n",
       "      <td>0</td>\n",
       "      <td>4</td>\n",
       "      <td>4</td>\n",
       "      <td>0</td>\n",
       "      <td>1.3</td>\n",
       "      <td>0.0</td>\n",
       "      <td>4</td>\n",
       "    </tr>\n",
       "  </tbody>\n",
       "</table>\n",
       "<p>2004 rows × 18 columns</p>\n",
       "</div>"
      ],
      "text/plain": [
       "                        localidad  p_anal   p_15  p_15_se  p_15_pi  p_15_pc  \\\n",
       "codigo_geo                                                                    \n",
       "190010001                 Abasolo      36   1352       55      503      403   \n",
       "190020001              Agualeguas      82   1534      119      736      287   \n",
       "190030001             Los Aldamas      33    438       34      261       85   \n",
       "190040001       Ciudad de Allende     439  18460      502     7343     5056   \n",
       "190050001                 An�huac     417  10961      509     5039     2233   \n",
       "...                           ...     ...    ...      ...      ...      ...   \n",
       "190510017              El Potrero      20    481       21      264      121   \n",
       "190510020                El Salto      -6     13       -6       10       -6   \n",
       "190510022       Hacienda Santa Fe       3    118        4       63       24   \n",
       "190510023            Santa Isabel       6    127        9       44       38   \n",
       "190510055   La Higuera (Higueras)       0     10        0        7       -6   \n",
       "\n",
       "            p_15_si  p_15_sc  p_15_pb  viviendas_totales  \\\n",
       "codigo_geo                                                 \n",
       "190010001        49      244      380                504   \n",
       "190020001        50      174      386                669   \n",
       "190030001         3       43       57                191   \n",
       "190040001       468     3375     5440               7323   \n",
       "190050001       270     1293     3096               4256   \n",
       "...             ...      ...      ...                ...   \n",
       "190510017         4       57       73                223   \n",
       "190510020        -6       -6        0                  5   \n",
       "190510022        -6       14       26                 52   \n",
       "190510023         4       18       35                 55   \n",
       "190510055         0       -6       -6                  4   \n",
       "\n",
       "            viviendas_con_escusado  viviendas_sin_luz  viviendas_con_luz  \\\n",
       "codigo_geo                                                                 \n",
       "190010001                      494                  5                496   \n",
       "190020001                      657                  6                660   \n",
       "190030001                      185                  0                191   \n",
       "190040001                     7218                  9               7281   \n",
       "190050001                     4157                 38               4213   \n",
       "...                            ...                ...                ...   \n",
       "190510017                      218                 -6                219   \n",
       "190510020                        5                  0                  5   \n",
       "190510022                       50                 -6                 51   \n",
       "190510023                       54                  0                 55   \n",
       "190510055                        4                  0                  4   \n",
       "\n",
       "            viviendas_entubadas  viviendas_no_entubadas  ocupantes_por_cuarto  \\\n",
       "codigo_geo                                                                      \n",
       "190010001                   498                      -6                   1.0   \n",
       "190020001                   659                       7                   0.8   \n",
       "190030001                   185                       5                   0.7   \n",
       "190040001                  7168                      92                   0.9   \n",
       "190050001                  4161                      89                  -6.0   \n",
       "...                         ...                     ...                   ...   \n",
       "190510017                   218                       5                   0.8   \n",
       "190510020                     5                       0                   0.9   \n",
       "190510022                    49                       3                   0.8   \n",
       "190510023                    55                       0                   0.9   \n",
       "190510055                     4                       0                   1.3   \n",
       "\n",
       "            viviendas_tierra  viviendas_con_refri  \n",
       "codigo_geo                                         \n",
       "190010001               -6.0                  473  \n",
       "190020001               -6.0                  646  \n",
       "190030001               -6.0                  187  \n",
       "190040001                1.5                 7082  \n",
       "190050001                3.1                 3997  \n",
       "...                      ...                  ...  \n",
       "190510017               -6.0                  214  \n",
       "190510020               -6.0                    5  \n",
       "190510022               -6.0                   51  \n",
       "190510023                0.0                   54  \n",
       "190510055                0.0                    4  \n",
       "\n",
       "[2004 rows x 18 columns]"
      ]
     },
     "execution_count": 18,
     "metadata": {},
     "output_type": "execute_result"
    }
   ],
   "source": [
    "fila_negativa_9 = censo_nl_nuevo.iloc[:,1:].apply(mean, axis=1) == -9 #filas con -9 como entradas\n",
    "indices_no_negativos_9 = np.where(fila_negativa_9 == False) #seleccionamos los índices que no son negativos\n",
    "censo_nl_nuevo = censo_nl_nuevo.iloc[indices_no_negativos_9]\n",
    "censo_nl_nuevo"
   ]
  },
  {
   "cell_type": "markdown",
   "id": "clean-prague",
   "metadata": {
    "ExecuteTime": {
     "end_time": "2021-02-21T19:46:39.925747Z",
     "start_time": "2021-02-21T19:46:39.887749Z"
    }
   },
   "source": [
    "## Imputando datos\n",
    "Usamos la clase `KNNImputer` ofrecido por el módulo `imputer` de la librería `sklearn`, el cual nos ayudará a\n",
    "imputar los datos vía 7 vecinos más cercanos:"
   ]
  },
  {
   "cell_type": "code",
   "execution_count": 19,
   "id": "julian-plumbing",
   "metadata": {
    "ExecuteTime": {
     "end_time": "2021-02-22T04:36:56.504767Z",
     "start_time": "2021-02-22T04:36:55.816067Z"
    }
   },
   "outputs": [
    {
     "data": {
      "text/html": [
       "<div>\n",
       "<style scoped>\n",
       "    .dataframe tbody tr th:only-of-type {\n",
       "        vertical-align: middle;\n",
       "    }\n",
       "\n",
       "    .dataframe tbody tr th {\n",
       "        vertical-align: top;\n",
       "    }\n",
       "\n",
       "    .dataframe thead th {\n",
       "        text-align: right;\n",
       "    }\n",
       "</style>\n",
       "<table border=\"1\" class=\"dataframe\">\n",
       "  <thead>\n",
       "    <tr style=\"text-align: right;\">\n",
       "      <th></th>\n",
       "      <th>localidad</th>\n",
       "      <th>p_anal</th>\n",
       "      <th>p_15</th>\n",
       "      <th>p_15_se</th>\n",
       "      <th>p_15_pi</th>\n",
       "      <th>p_15_pc</th>\n",
       "      <th>p_15_si</th>\n",
       "      <th>p_15_sc</th>\n",
       "      <th>p_15_pb</th>\n",
       "      <th>viviendas_totales</th>\n",
       "      <th>viviendas_con_escusado</th>\n",
       "      <th>viviendas_sin_luz</th>\n",
       "      <th>viviendas_con_luz</th>\n",
       "      <th>viviendas_entubadas</th>\n",
       "      <th>viviendas_no_entubadas</th>\n",
       "      <th>ocupantes_por_cuarto</th>\n",
       "      <th>viviendas_tierra</th>\n",
       "      <th>viviendas_con_refri</th>\n",
       "    </tr>\n",
       "    <tr>\n",
       "      <th>codigo_geo</th>\n",
       "      <th></th>\n",
       "      <th></th>\n",
       "      <th></th>\n",
       "      <th></th>\n",
       "      <th></th>\n",
       "      <th></th>\n",
       "      <th></th>\n",
       "      <th></th>\n",
       "      <th></th>\n",
       "      <th></th>\n",
       "      <th></th>\n",
       "      <th></th>\n",
       "      <th></th>\n",
       "      <th></th>\n",
       "      <th></th>\n",
       "      <th></th>\n",
       "      <th></th>\n",
       "      <th></th>\n",
       "    </tr>\n",
       "  </thead>\n",
       "  <tbody>\n",
       "    <tr>\n",
       "      <th>190010001</th>\n",
       "      <td>Abasolo</td>\n",
       "      <td>36.000000</td>\n",
       "      <td>1352.0</td>\n",
       "      <td>55.000000</td>\n",
       "      <td>503.0</td>\n",
       "      <td>403.000000</td>\n",
       "      <td>49.000000</td>\n",
       "      <td>244.000000</td>\n",
       "      <td>380.000000</td>\n",
       "      <td>504.0</td>\n",
       "      <td>494.0</td>\n",
       "      <td>5.000000</td>\n",
       "      <td>496.0</td>\n",
       "      <td>498.0</td>\n",
       "      <td>25.142857</td>\n",
       "      <td>1.000000</td>\n",
       "      <td>2.757143</td>\n",
       "      <td>473.0</td>\n",
       "    </tr>\n",
       "    <tr>\n",
       "      <th>190020001</th>\n",
       "      <td>Agualeguas</td>\n",
       "      <td>82.000000</td>\n",
       "      <td>1534.0</td>\n",
       "      <td>119.000000</td>\n",
       "      <td>736.0</td>\n",
       "      <td>287.000000</td>\n",
       "      <td>50.000000</td>\n",
       "      <td>174.000000</td>\n",
       "      <td>386.000000</td>\n",
       "      <td>669.0</td>\n",
       "      <td>657.0</td>\n",
       "      <td>6.000000</td>\n",
       "      <td>660.0</td>\n",
       "      <td>659.0</td>\n",
       "      <td>7.000000</td>\n",
       "      <td>0.800000</td>\n",
       "      <td>3.242857</td>\n",
       "      <td>646.0</td>\n",
       "    </tr>\n",
       "    <tr>\n",
       "      <th>190030001</th>\n",
       "      <td>Los Aldamas</td>\n",
       "      <td>33.000000</td>\n",
       "      <td>438.0</td>\n",
       "      <td>34.000000</td>\n",
       "      <td>261.0</td>\n",
       "      <td>85.000000</td>\n",
       "      <td>3.000000</td>\n",
       "      <td>43.000000</td>\n",
       "      <td>57.000000</td>\n",
       "      <td>191.0</td>\n",
       "      <td>185.0</td>\n",
       "      <td>0.000000</td>\n",
       "      <td>191.0</td>\n",
       "      <td>185.0</td>\n",
       "      <td>5.000000</td>\n",
       "      <td>0.700000</td>\n",
       "      <td>2.100000</td>\n",
       "      <td>187.0</td>\n",
       "    </tr>\n",
       "    <tr>\n",
       "      <th>190040001</th>\n",
       "      <td>Ciudad de Allende</td>\n",
       "      <td>439.000000</td>\n",
       "      <td>18460.0</td>\n",
       "      <td>502.000000</td>\n",
       "      <td>7343.0</td>\n",
       "      <td>5056.000000</td>\n",
       "      <td>468.000000</td>\n",
       "      <td>3375.000000</td>\n",
       "      <td>5440.000000</td>\n",
       "      <td>7323.0</td>\n",
       "      <td>7218.0</td>\n",
       "      <td>9.000000</td>\n",
       "      <td>7281.0</td>\n",
       "      <td>7168.0</td>\n",
       "      <td>92.000000</td>\n",
       "      <td>0.900000</td>\n",
       "      <td>1.500000</td>\n",
       "      <td>7082.0</td>\n",
       "    </tr>\n",
       "    <tr>\n",
       "      <th>190050001</th>\n",
       "      <td>An�huac</td>\n",
       "      <td>417.000000</td>\n",
       "      <td>10961.0</td>\n",
       "      <td>509.000000</td>\n",
       "      <td>5039.0</td>\n",
       "      <td>2233.000000</td>\n",
       "      <td>270.000000</td>\n",
       "      <td>1293.000000</td>\n",
       "      <td>3096.000000</td>\n",
       "      <td>4256.0</td>\n",
       "      <td>4157.0</td>\n",
       "      <td>38.000000</td>\n",
       "      <td>4213.0</td>\n",
       "      <td>4161.0</td>\n",
       "      <td>89.000000</td>\n",
       "      <td>1.085714</td>\n",
       "      <td>3.100000</td>\n",
       "      <td>3997.0</td>\n",
       "    </tr>\n",
       "    <tr>\n",
       "      <th>...</th>\n",
       "      <td>...</td>\n",
       "      <td>...</td>\n",
       "      <td>...</td>\n",
       "      <td>...</td>\n",
       "      <td>...</td>\n",
       "      <td>...</td>\n",
       "      <td>...</td>\n",
       "      <td>...</td>\n",
       "      <td>...</td>\n",
       "      <td>...</td>\n",
       "      <td>...</td>\n",
       "      <td>...</td>\n",
       "      <td>...</td>\n",
       "      <td>...</td>\n",
       "      <td>...</td>\n",
       "      <td>...</td>\n",
       "      <td>...</td>\n",
       "      <td>...</td>\n",
       "    </tr>\n",
       "    <tr>\n",
       "      <th>190510017</th>\n",
       "      <td>El Potrero</td>\n",
       "      <td>20.000000</td>\n",
       "      <td>481.0</td>\n",
       "      <td>21.000000</td>\n",
       "      <td>264.0</td>\n",
       "      <td>121.000000</td>\n",
       "      <td>4.000000</td>\n",
       "      <td>57.000000</td>\n",
       "      <td>73.000000</td>\n",
       "      <td>223.0</td>\n",
       "      <td>218.0</td>\n",
       "      <td>1.142857</td>\n",
       "      <td>219.0</td>\n",
       "      <td>218.0</td>\n",
       "      <td>5.000000</td>\n",
       "      <td>0.800000</td>\n",
       "      <td>2.457143</td>\n",
       "      <td>214.0</td>\n",
       "    </tr>\n",
       "    <tr>\n",
       "      <th>190510020</th>\n",
       "      <td>El Salto</td>\n",
       "      <td>1.285714</td>\n",
       "      <td>13.0</td>\n",
       "      <td>0.857143</td>\n",
       "      <td>10.0</td>\n",
       "      <td>1.000000</td>\n",
       "      <td>0.000000</td>\n",
       "      <td>0.571429</td>\n",
       "      <td>0.000000</td>\n",
       "      <td>5.0</td>\n",
       "      <td>5.0</td>\n",
       "      <td>0.000000</td>\n",
       "      <td>5.0</td>\n",
       "      <td>5.0</td>\n",
       "      <td>0.000000</td>\n",
       "      <td>0.900000</td>\n",
       "      <td>0.000000</td>\n",
       "      <td>5.0</td>\n",
       "    </tr>\n",
       "    <tr>\n",
       "      <th>190510022</th>\n",
       "      <td>Hacienda Santa Fe</td>\n",
       "      <td>3.000000</td>\n",
       "      <td>118.0</td>\n",
       "      <td>4.000000</td>\n",
       "      <td>63.0</td>\n",
       "      <td>24.000000</td>\n",
       "      <td>3.571429</td>\n",
       "      <td>14.000000</td>\n",
       "      <td>26.000000</td>\n",
       "      <td>52.0</td>\n",
       "      <td>50.0</td>\n",
       "      <td>0.000000</td>\n",
       "      <td>51.0</td>\n",
       "      <td>49.0</td>\n",
       "      <td>3.000000</td>\n",
       "      <td>0.800000</td>\n",
       "      <td>3.285714</td>\n",
       "      <td>51.0</td>\n",
       "    </tr>\n",
       "    <tr>\n",
       "      <th>190510023</th>\n",
       "      <td>Santa Isabel</td>\n",
       "      <td>6.000000</td>\n",
       "      <td>127.0</td>\n",
       "      <td>9.000000</td>\n",
       "      <td>44.0</td>\n",
       "      <td>38.000000</td>\n",
       "      <td>4.000000</td>\n",
       "      <td>18.000000</td>\n",
       "      <td>35.000000</td>\n",
       "      <td>55.0</td>\n",
       "      <td>54.0</td>\n",
       "      <td>0.000000</td>\n",
       "      <td>55.0</td>\n",
       "      <td>55.0</td>\n",
       "      <td>0.000000</td>\n",
       "      <td>0.900000</td>\n",
       "      <td>0.000000</td>\n",
       "      <td>54.0</td>\n",
       "    </tr>\n",
       "    <tr>\n",
       "      <th>190510055</th>\n",
       "      <td>La Higuera (Higueras)</td>\n",
       "      <td>0.000000</td>\n",
       "      <td>10.0</td>\n",
       "      <td>0.000000</td>\n",
       "      <td>7.0</td>\n",
       "      <td>2.428571</td>\n",
       "      <td>0.000000</td>\n",
       "      <td>0.428571</td>\n",
       "      <td>1.428571</td>\n",
       "      <td>4.0</td>\n",
       "      <td>4.0</td>\n",
       "      <td>0.000000</td>\n",
       "      <td>4.0</td>\n",
       "      <td>4.0</td>\n",
       "      <td>0.000000</td>\n",
       "      <td>1.300000</td>\n",
       "      <td>0.000000</td>\n",
       "      <td>4.0</td>\n",
       "    </tr>\n",
       "  </tbody>\n",
       "</table>\n",
       "<p>2004 rows × 18 columns</p>\n",
       "</div>"
      ],
      "text/plain": [
       "                        localidad      p_anal     p_15     p_15_se  p_15_pi  \\\n",
       "codigo_geo                                                                    \n",
       "190010001                 Abasolo   36.000000   1352.0   55.000000    503.0   \n",
       "190020001              Agualeguas   82.000000   1534.0  119.000000    736.0   \n",
       "190030001             Los Aldamas   33.000000    438.0   34.000000    261.0   \n",
       "190040001       Ciudad de Allende  439.000000  18460.0  502.000000   7343.0   \n",
       "190050001                 An�huac  417.000000  10961.0  509.000000   5039.0   \n",
       "...                           ...         ...      ...         ...      ...   \n",
       "190510017              El Potrero   20.000000    481.0   21.000000    264.0   \n",
       "190510020                El Salto    1.285714     13.0    0.857143     10.0   \n",
       "190510022       Hacienda Santa Fe    3.000000    118.0    4.000000     63.0   \n",
       "190510023            Santa Isabel    6.000000    127.0    9.000000     44.0   \n",
       "190510055   La Higuera (Higueras)    0.000000     10.0    0.000000      7.0   \n",
       "\n",
       "                p_15_pc     p_15_si      p_15_sc      p_15_pb  \\\n",
       "codigo_geo                                                      \n",
       "190010001    403.000000   49.000000   244.000000   380.000000   \n",
       "190020001    287.000000   50.000000   174.000000   386.000000   \n",
       "190030001     85.000000    3.000000    43.000000    57.000000   \n",
       "190040001   5056.000000  468.000000  3375.000000  5440.000000   \n",
       "190050001   2233.000000  270.000000  1293.000000  3096.000000   \n",
       "...                 ...         ...          ...          ...   \n",
       "190510017    121.000000    4.000000    57.000000    73.000000   \n",
       "190510020      1.000000    0.000000     0.571429     0.000000   \n",
       "190510022     24.000000    3.571429    14.000000    26.000000   \n",
       "190510023     38.000000    4.000000    18.000000    35.000000   \n",
       "190510055      2.428571    0.000000     0.428571     1.428571   \n",
       "\n",
       "            viviendas_totales  viviendas_con_escusado  viviendas_sin_luz  \\\n",
       "codigo_geo                                                                 \n",
       "190010001               504.0                   494.0           5.000000   \n",
       "190020001               669.0                   657.0           6.000000   \n",
       "190030001               191.0                   185.0           0.000000   \n",
       "190040001              7323.0                  7218.0           9.000000   \n",
       "190050001              4256.0                  4157.0          38.000000   \n",
       "...                       ...                     ...                ...   \n",
       "190510017               223.0                   218.0           1.142857   \n",
       "190510020                 5.0                     5.0           0.000000   \n",
       "190510022                52.0                    50.0           0.000000   \n",
       "190510023                55.0                    54.0           0.000000   \n",
       "190510055                 4.0                     4.0           0.000000   \n",
       "\n",
       "            viviendas_con_luz  viviendas_entubadas  viviendas_no_entubadas  \\\n",
       "codigo_geo                                                                   \n",
       "190010001               496.0                498.0               25.142857   \n",
       "190020001               660.0                659.0                7.000000   \n",
       "190030001               191.0                185.0                5.000000   \n",
       "190040001              7281.0               7168.0               92.000000   \n",
       "190050001              4213.0               4161.0               89.000000   \n",
       "...                       ...                  ...                     ...   \n",
       "190510017               219.0                218.0                5.000000   \n",
       "190510020                 5.0                  5.0                0.000000   \n",
       "190510022                51.0                 49.0                3.000000   \n",
       "190510023                55.0                 55.0                0.000000   \n",
       "190510055                 4.0                  4.0                0.000000   \n",
       "\n",
       "            ocupantes_por_cuarto  viviendas_tierra  viviendas_con_refri  \n",
       "codigo_geo                                                               \n",
       "190010001               1.000000          2.757143                473.0  \n",
       "190020001               0.800000          3.242857                646.0  \n",
       "190030001               0.700000          2.100000                187.0  \n",
       "190040001               0.900000          1.500000               7082.0  \n",
       "190050001               1.085714          3.100000               3997.0  \n",
       "...                          ...               ...                  ...  \n",
       "190510017               0.800000          2.457143                214.0  \n",
       "190510020               0.900000          0.000000                  5.0  \n",
       "190510022               0.800000          3.285714                 51.0  \n",
       "190510023               0.900000          0.000000                 54.0  \n",
       "190510055               1.300000          0.000000                  4.0  \n",
       "\n",
       "[2004 rows x 18 columns]"
      ]
     },
     "execution_count": 19,
     "metadata": {},
     "output_type": "execute_result"
    }
   ],
   "source": [
    "imputer_6 = KNNImputer(missing_values=-6, n_neighbors=7) #imputador de valores -6\n",
    "imputer_9 = KNNImputer(missing_values=-9, n_neighbors=7) #imputador de valores -6\n",
    "censo_nl_nuevo.iloc[:,1:] = imputer_6.fit_transform(censo_nl_nuevo.iloc[:,1:])\n",
    "censo_nl_nuevo.iloc[:,1:] = imputer_9.fit_transform(censo_nl_nuevo.iloc[:,1:])\n",
    "censo_nl_nuevo"
   ]
  },
  {
   "cell_type": "markdown",
   "id": "searching-watts",
   "metadata": {},
   "source": [
    "# Calculando los indicadores económicos"
   ]
  },
  {
   "cell_type": "markdown",
   "id": "negative-climb",
   "metadata": {},
   "source": [
    "## Calculamos el porcentajede población de 15 años o más analfabeta:"
   ]
  },
  {
   "cell_type": "code",
   "execution_count": 20,
   "id": "leading-princess",
   "metadata": {
    "ExecuteTime": {
     "end_time": "2021-02-22T04:36:56.518655Z",
     "start_time": "2021-02-22T04:36:56.508021Z"
    },
    "scrolled": true
   },
   "outputs": [
    {
     "data": {
      "text/plain": [
       "codigo_geo\n",
       "190010001    2.662722\n",
       "190020001    5.345502\n",
       "190030001    7.534247\n",
       "190040001    2.378115\n",
       "190050001    3.804397\n",
       "dtype: float64"
      ]
     },
     "execution_count": 20,
     "metadata": {},
     "output_type": "execute_result"
    }
   ],
   "source": [
    "i_1 = (censo_nl_nuevo.p_anal / censo_nl_nuevo.p_15)*100 #indicador 1\n",
    "i_1[0:5]"
   ]
  },
  {
   "cell_type": "markdown",
   "id": "thick-account",
   "metadata": {
    "ExecuteTime": {
     "end_time": "2021-02-21T01:25:43.871293Z",
     "start_time": "2021-02-21T01:25:43.858751Z"
    }
   },
   "source": [
    "## Creamos el porcentaje de población de 15 años o más sin primaria completa:"
   ]
  },
  {
   "cell_type": "code",
   "execution_count": 21,
   "id": "portuguese-middle",
   "metadata": {
    "ExecuteTime": {
     "end_time": "2021-02-22T04:36:56.815449Z",
     "start_time": "2021-02-22T04:36:56.803767Z"
    }
   },
   "outputs": [
    {
     "data": {
      "text/plain": [
       "codigo_geo\n",
       "190010001    34.149327\n",
       "190020001    48.801370\n",
       "190030001    61.076605\n",
       "190040001    35.363325\n",
       "190050001    44.598071\n",
       "dtype: float64"
      ]
     },
     "execution_count": 21,
     "metadata": {},
     "output_type": "execute_result"
    }
   ],
   "source": [
    "i_2 = ((censo_nl_nuevo.p_15_se + censo_nl_nuevo.p_15_pi)/(censo_nl_nuevo.p_15_se+censo_nl_nuevo.p_15_pi+ #indicador 2\n",
    "                                                          censo_nl_nuevo.p_15_pc+censo_nl_nuevo.p_15_si\n",
    "                                                          +censo_nl_nuevo.p_15_sc+censo_nl_nuevo.p_15_pb))*100 \n",
    "i_2[:5]"
   ]
  },
  {
   "cell_type": "markdown",
   "id": "forced-philippines",
   "metadata": {},
   "source": [
    "## Calculamos el porcentaje de viviendas particulares habitadas sin excusado:"
   ]
  },
  {
   "cell_type": "code",
   "execution_count": 22,
   "id": "qualified-enterprise",
   "metadata": {
    "ExecuteTime": {
     "end_time": "2021-02-22T04:36:57.239483Z",
     "start_time": "2021-02-22T04:36:57.226779Z"
    }
   },
   "outputs": [
    {
     "data": {
      "text/plain": [
       "codigo_geo\n",
       "190010001    1.984127\n",
       "190020001    1.793722\n",
       "190030001    3.141361\n",
       "190040001    1.433839\n",
       "190050001    2.326128\n",
       "dtype: float64"
      ]
     },
     "execution_count": 22,
     "metadata": {},
     "output_type": "execute_result"
    }
   ],
   "source": [
    "i_3 = 100*(censo_nl_nuevo.viviendas_totales-censo_nl_nuevo.viviendas_con_escusado)/censo_nl_nuevo.viviendas_totales\n",
    "i_3[:5]"
   ]
  },
  {
   "cell_type": "markdown",
   "id": "noticed-recipe",
   "metadata": {},
   "source": [
    "## Calculamos el porcentaje de viviendas particulares habitadas sin energía eléctrica"
   ]
  },
  {
   "cell_type": "code",
   "execution_count": 23,
   "id": "announced-scanning",
   "metadata": {
    "ExecuteTime": {
     "end_time": "2021-02-22T04:36:57.694765Z",
     "start_time": "2021-02-22T04:36:57.682423Z"
    }
   },
   "outputs": [
    {
     "data": {
      "text/plain": [
       "codigo_geo\n",
       "190010001    0.998004\n",
       "190020001    0.900901\n",
       "190030001    0.000000\n",
       "190040001    0.123457\n",
       "190050001    0.893907\n",
       "               ...   \n",
       "190510017    0.519143\n",
       "190510020    0.000000\n",
       "190510022    0.000000\n",
       "190510023    0.000000\n",
       "190510055    0.000000\n",
       "Length: 2004, dtype: float64"
      ]
     },
     "execution_count": 23,
     "metadata": {},
     "output_type": "execute_result"
    }
   ],
   "source": [
    "i_4 = 100*censo_nl_nuevo.viviendas_sin_luz/(censo_nl_nuevo.viviendas_con_luz+censo_nl_nuevo.viviendas_sin_luz) \n",
    "i_4 #indicador 4"
   ]
  },
  {
   "cell_type": "markdown",
   "id": "addressed-distributor",
   "metadata": {},
   "source": [
    "## Porcentaje de viviendas particulares habitadas sin disponibilidad de agua entubada"
   ]
  },
  {
   "cell_type": "code",
   "execution_count": 24,
   "id": "binary-ceremony",
   "metadata": {
    "ExecuteTime": {
     "end_time": "2021-02-22T04:36:58.217578Z",
     "start_time": "2021-02-22T04:36:58.208274Z"
    }
   },
   "outputs": [
    {
     "data": {
      "text/plain": [
       "codigo_geo\n",
       "190010001    0.048061\n",
       "190020001    0.010511\n",
       "190030001    0.026316\n",
       "190040001    0.012672\n",
       "190050001    0.020941\n",
       "dtype: float64"
      ]
     },
     "execution_count": 24,
     "metadata": {},
     "output_type": "execute_result"
    }
   ],
   "source": [
    "i_5 = censo_nl_nuevo.viviendas_no_entubadas/(censo_nl_nuevo.viviendas_entubadas+\n",
    "                                             censo_nl_nuevo.viviendas_no_entubadas)\n",
    "i_5[:5]"
   ]
  },
  {
   "cell_type": "markdown",
   "id": "white-campaign",
   "metadata": {},
   "source": [
    "## Promedio de ocupantes por cuarto en viviendas particulares habitadas"
   ]
  },
  {
   "cell_type": "code",
   "execution_count": 25,
   "id": "radical-opera",
   "metadata": {
    "ExecuteTime": {
     "end_time": "2021-02-22T04:36:58.841067Z",
     "start_time": "2021-02-22T04:36:58.835126Z"
    }
   },
   "outputs": [],
   "source": [
    "i_6 = censo_nl_nuevo.ocupantes_por_cuarto.copy()"
   ]
  },
  {
   "cell_type": "markdown",
   "id": "western-kingston",
   "metadata": {},
   "source": [
    "## Porcentaje de viviendas particulares habitadas con piso de tierra"
   ]
  },
  {
   "cell_type": "code",
   "execution_count": 26,
   "id": "posted-mileage",
   "metadata": {
    "ExecuteTime": {
     "end_time": "2021-02-22T04:36:59.475689Z",
     "start_time": "2021-02-22T04:36:59.469853Z"
    }
   },
   "outputs": [],
   "source": [
    "i_7 = censo_nl_nuevo.viviendas_tierra"
   ]
  },
  {
   "cell_type": "markdown",
   "id": "sufficient-causing",
   "metadata": {},
   "source": [
    "## Porcentaje de viviendas particulares habitadas que no disponen de refrigerador"
   ]
  },
  {
   "cell_type": "code",
   "execution_count": 27,
   "id": "insured-throat",
   "metadata": {
    "ExecuteTime": {
     "end_time": "2021-02-22T04:37:00.068667Z",
     "start_time": "2021-02-22T04:37:00.060187Z"
    },
    "scrolled": true
   },
   "outputs": [
    {
     "data": {
      "text/plain": [
       "codigo_geo\n",
       "190010001    6.150794\n",
       "190020001    3.437967\n",
       "190030001    2.094241\n",
       "190040001    3.291001\n",
       "190050001    6.085526\n",
       "dtype: float64"
      ]
     },
     "execution_count": 27,
     "metadata": {},
     "output_type": "execute_result"
    }
   ],
   "source": [
    "i_8 = 100*(censo_nl_nuevo.viviendas_totales-censo_nl_nuevo.viviendas_con_refri)/censo_nl_nuevo.viviendas_totales\n",
    "i_8[:5]"
   ]
  },
  {
   "cell_type": "markdown",
   "id": "figured-damage",
   "metadata": {},
   "source": [
    "## Agrupando los indicadores"
   ]
  },
  {
   "cell_type": "code",
   "execution_count": 28,
   "id": "split-blond",
   "metadata": {
    "ExecuteTime": {
     "end_time": "2021-02-22T04:37:01.042198Z",
     "start_time": "2021-02-22T04:37:01.016428Z"
    }
   },
   "outputs": [
    {
     "data": {
      "text/html": [
       "<div>\n",
       "<style scoped>\n",
       "    .dataframe tbody tr th:only-of-type {\n",
       "        vertical-align: middle;\n",
       "    }\n",
       "\n",
       "    .dataframe tbody tr th {\n",
       "        vertical-align: top;\n",
       "    }\n",
       "\n",
       "    .dataframe thead th {\n",
       "        text-align: right;\n",
       "    }\n",
       "</style>\n",
       "<table border=\"1\" class=\"dataframe\">\n",
       "  <thead>\n",
       "    <tr style=\"text-align: right;\">\n",
       "      <th></th>\n",
       "      <th>i_1</th>\n",
       "      <th>i_2</th>\n",
       "      <th>i_3</th>\n",
       "      <th>i_4</th>\n",
       "      <th>i_5</th>\n",
       "      <th>i_6</th>\n",
       "      <th>i_7</th>\n",
       "      <th>i_8</th>\n",
       "    </tr>\n",
       "    <tr>\n",
       "      <th>codigo_geo</th>\n",
       "      <th></th>\n",
       "      <th></th>\n",
       "      <th></th>\n",
       "      <th></th>\n",
       "      <th></th>\n",
       "      <th></th>\n",
       "      <th></th>\n",
       "      <th></th>\n",
       "    </tr>\n",
       "  </thead>\n",
       "  <tbody>\n",
       "    <tr>\n",
       "      <th>190010001</th>\n",
       "      <td>2.662722</td>\n",
       "      <td>34.149327</td>\n",
       "      <td>1.984127</td>\n",
       "      <td>0.998004</td>\n",
       "      <td>0.048061</td>\n",
       "      <td>1.000000</td>\n",
       "      <td>2.757143</td>\n",
       "      <td>6.150794</td>\n",
       "    </tr>\n",
       "    <tr>\n",
       "      <th>190020001</th>\n",
       "      <td>5.345502</td>\n",
       "      <td>48.801370</td>\n",
       "      <td>1.793722</td>\n",
       "      <td>0.900901</td>\n",
       "      <td>0.010511</td>\n",
       "      <td>0.800000</td>\n",
       "      <td>3.242857</td>\n",
       "      <td>3.437967</td>\n",
       "    </tr>\n",
       "    <tr>\n",
       "      <th>190030001</th>\n",
       "      <td>7.534247</td>\n",
       "      <td>61.076605</td>\n",
       "      <td>3.141361</td>\n",
       "      <td>0.000000</td>\n",
       "      <td>0.026316</td>\n",
       "      <td>0.700000</td>\n",
       "      <td>2.100000</td>\n",
       "      <td>2.094241</td>\n",
       "    </tr>\n",
       "    <tr>\n",
       "      <th>190040001</th>\n",
       "      <td>2.378115</td>\n",
       "      <td>35.363325</td>\n",
       "      <td>1.433839</td>\n",
       "      <td>0.123457</td>\n",
       "      <td>0.012672</td>\n",
       "      <td>0.900000</td>\n",
       "      <td>1.500000</td>\n",
       "      <td>3.291001</td>\n",
       "    </tr>\n",
       "    <tr>\n",
       "      <th>190050001</th>\n",
       "      <td>3.804397</td>\n",
       "      <td>44.598071</td>\n",
       "      <td>2.326128</td>\n",
       "      <td>0.893907</td>\n",
       "      <td>0.020941</td>\n",
       "      <td>1.085714</td>\n",
       "      <td>3.100000</td>\n",
       "      <td>6.085526</td>\n",
       "    </tr>\n",
       "  </tbody>\n",
       "</table>\n",
       "</div>"
      ],
      "text/plain": [
       "                 i_1        i_2       i_3       i_4       i_5       i_6  \\\n",
       "codigo_geo                                                                \n",
       "190010001   2.662722  34.149327  1.984127  0.998004  0.048061  1.000000   \n",
       "190020001   5.345502  48.801370  1.793722  0.900901  0.010511  0.800000   \n",
       "190030001   7.534247  61.076605  3.141361  0.000000  0.026316  0.700000   \n",
       "190040001   2.378115  35.363325  1.433839  0.123457  0.012672  0.900000   \n",
       "190050001   3.804397  44.598071  2.326128  0.893907  0.020941  1.085714   \n",
       "\n",
       "                 i_7       i_8  \n",
       "codigo_geo                      \n",
       "190010001   2.757143  6.150794  \n",
       "190020001   3.242857  3.437967  \n",
       "190030001   2.100000  2.094241  \n",
       "190040001   1.500000  3.291001  \n",
       "190050001   3.100000  6.085526  "
      ]
     },
     "execution_count": 28,
     "metadata": {},
     "output_type": "execute_result"
    }
   ],
   "source": [
    "X = pd.DataFrame({'i_1':i_1,\n",
    "                          'i_2':i_2,\n",
    "                          'i_3':i_3,\n",
    "                          'i_4':i_4,\n",
    "                          'i_5':i_5,\n",
    "                          'i_6':i_6,\n",
    "                          'i_7':i_7,\n",
    "                          'i_8':i_8})\n",
    "X.head()"
   ]
  },
  {
   "cell_type": "markdown",
   "id": "greenhouse-harmony",
   "metadata": {},
   "source": [
    "# Aplicando el método de *componentes principales* para estimar el *índice de marginación*:"
   ]
  },
  {
   "cell_type": "markdown",
   "id": "funky-virtue",
   "metadata": {
    "ExecuteTime": {
     "end_time": "2021-02-22T03:04:13.376881Z",
     "start_time": "2021-02-22T03:04:13.371975Z"
    }
   },
   "source": [
    "## Estandarizamos los indicadores:"
   ]
  },
  {
   "cell_type": "code",
   "execution_count": 29,
   "id": "serious-cyprus",
   "metadata": {
    "ExecuteTime": {
     "end_time": "2021-02-22T04:37:02.353318Z",
     "start_time": "2021-02-22T04:37:02.349815Z"
    }
   },
   "outputs": [],
   "source": [
    "scaler = StandardScaler()"
   ]
  },
  {
   "cell_type": "code",
   "execution_count": 30,
   "id": "sexual-shopper",
   "metadata": {
    "ExecuteTime": {
     "end_time": "2021-02-22T04:37:02.759727Z",
     "start_time": "2021-02-22T04:37:02.724475Z"
    }
   },
   "outputs": [
    {
     "data": {
      "text/html": [
       "<div>\n",
       "<style scoped>\n",
       "    .dataframe tbody tr th:only-of-type {\n",
       "        vertical-align: middle;\n",
       "    }\n",
       "\n",
       "    .dataframe tbody tr th {\n",
       "        vertical-align: top;\n",
       "    }\n",
       "\n",
       "    .dataframe thead th {\n",
       "        text-align: right;\n",
       "    }\n",
       "</style>\n",
       "<table border=\"1\" class=\"dataframe\">\n",
       "  <thead>\n",
       "    <tr style=\"text-align: right;\">\n",
       "      <th></th>\n",
       "      <th>0</th>\n",
       "      <th>1</th>\n",
       "      <th>2</th>\n",
       "      <th>3</th>\n",
       "      <th>4</th>\n",
       "      <th>5</th>\n",
       "      <th>6</th>\n",
       "      <th>7</th>\n",
       "    </tr>\n",
       "  </thead>\n",
       "  <tbody>\n",
       "    <tr>\n",
       "      <th>0</th>\n",
       "      <td>-0.629323</td>\n",
       "      <td>-1.399548</td>\n",
       "      <td>-0.386389</td>\n",
       "      <td>-0.295819</td>\n",
       "      <td>-0.973236</td>\n",
       "      <td>-0.505382</td>\n",
       "      <td>-0.335529</td>\n",
       "      <td>-0.584927</td>\n",
       "    </tr>\n",
       "    <tr>\n",
       "      <th>1</th>\n",
       "      <td>-0.346882</td>\n",
       "      <td>-0.687005</td>\n",
       "      <td>-0.399262</td>\n",
       "      <td>-0.300325</td>\n",
       "      <td>-1.067867</td>\n",
       "      <td>-0.928623</td>\n",
       "      <td>-0.306381</td>\n",
       "      <td>-0.676055</td>\n",
       "    </tr>\n",
       "    <tr>\n",
       "      <th>2</th>\n",
       "      <td>-0.116453</td>\n",
       "      <td>-0.090047</td>\n",
       "      <td>-0.308150</td>\n",
       "      <td>-0.342130</td>\n",
       "      <td>-1.028036</td>\n",
       "      <td>-1.140243</td>\n",
       "      <td>-0.374964</td>\n",
       "      <td>-0.721192</td>\n",
       "    </tr>\n",
       "    <tr>\n",
       "      <th>3</th>\n",
       "      <td>-0.659286</td>\n",
       "      <td>-1.340510</td>\n",
       "      <td>-0.423593</td>\n",
       "      <td>-0.336401</td>\n",
       "      <td>-1.062420</td>\n",
       "      <td>-0.717002</td>\n",
       "      <td>-0.410970</td>\n",
       "      <td>-0.680991</td>\n",
       "    </tr>\n",
       "    <tr>\n",
       "      <th>4</th>\n",
       "      <td>-0.509128</td>\n",
       "      <td>-0.891415</td>\n",
       "      <td>-0.363267</td>\n",
       "      <td>-0.300650</td>\n",
       "      <td>-1.041581</td>\n",
       "      <td>-0.323993</td>\n",
       "      <td>-0.314954</td>\n",
       "      <td>-0.587120</td>\n",
       "    </tr>\n",
       "    <tr>\n",
       "      <th>...</th>\n",
       "      <td>...</td>\n",
       "      <td>...</td>\n",
       "      <td>...</td>\n",
       "      <td>...</td>\n",
       "      <td>...</td>\n",
       "      <td>...</td>\n",
       "      <td>...</td>\n",
       "      <td>...</td>\n",
       "    </tr>\n",
       "    <tr>\n",
       "      <th>1999</th>\n",
       "      <td>-0.471901</td>\n",
       "      <td>-0.493628</td>\n",
       "      <td>-0.368944</td>\n",
       "      <td>-0.318040</td>\n",
       "      <td>-1.037850</td>\n",
       "      <td>-0.928623</td>\n",
       "      <td>-0.353532</td>\n",
       "      <td>-0.655970</td>\n",
       "    </tr>\n",
       "    <tr>\n",
       "      <th>2000</th>\n",
       "      <td>0.131570</td>\n",
       "      <td>1.187962</td>\n",
       "      <td>-0.520534</td>\n",
       "      <td>-0.342130</td>\n",
       "      <td>-1.094355</td>\n",
       "      <td>-0.717002</td>\n",
       "      <td>-0.500985</td>\n",
       "      <td>-0.791541</td>\n",
       "    </tr>\n",
       "    <tr>\n",
       "      <th>2001</th>\n",
       "      <td>-0.641993</td>\n",
       "      <td>-0.639039</td>\n",
       "      <td>-0.260499</td>\n",
       "      <td>-0.342130</td>\n",
       "      <td>-0.948964</td>\n",
       "      <td>-0.928623</td>\n",
       "      <td>-0.303809</td>\n",
       "      <td>-0.726942</td>\n",
       "    </tr>\n",
       "    <tr>\n",
       "      <th>2002</th>\n",
       "      <td>-0.412270</td>\n",
       "      <td>-1.318749</td>\n",
       "      <td>-0.397608</td>\n",
       "      <td>-0.342130</td>\n",
       "      <td>-1.094355</td>\n",
       "      <td>-0.717002</td>\n",
       "      <td>-0.500985</td>\n",
       "      <td>-0.730465</td>\n",
       "    </tr>\n",
       "    <tr>\n",
       "      <th>2003</th>\n",
       "      <td>-0.909651</td>\n",
       "      <td>-0.043910</td>\n",
       "      <td>-0.520534</td>\n",
       "      <td>-0.342130</td>\n",
       "      <td>-1.094355</td>\n",
       "      <td>0.129479</td>\n",
       "      <td>-0.500985</td>\n",
       "      <td>-0.791541</td>\n",
       "    </tr>\n",
       "  </tbody>\n",
       "</table>\n",
       "<p>2004 rows × 8 columns</p>\n",
       "</div>"
      ],
      "text/plain": [
       "             0         1         2         3         4         5         6  \\\n",
       "0    -0.629323 -1.399548 -0.386389 -0.295819 -0.973236 -0.505382 -0.335529   \n",
       "1    -0.346882 -0.687005 -0.399262 -0.300325 -1.067867 -0.928623 -0.306381   \n",
       "2    -0.116453 -0.090047 -0.308150 -0.342130 -1.028036 -1.140243 -0.374964   \n",
       "3    -0.659286 -1.340510 -0.423593 -0.336401 -1.062420 -0.717002 -0.410970   \n",
       "4    -0.509128 -0.891415 -0.363267 -0.300650 -1.041581 -0.323993 -0.314954   \n",
       "...        ...       ...       ...       ...       ...       ...       ...   \n",
       "1999 -0.471901 -0.493628 -0.368944 -0.318040 -1.037850 -0.928623 -0.353532   \n",
       "2000  0.131570  1.187962 -0.520534 -0.342130 -1.094355 -0.717002 -0.500985   \n",
       "2001 -0.641993 -0.639039 -0.260499 -0.342130 -0.948964 -0.928623 -0.303809   \n",
       "2002 -0.412270 -1.318749 -0.397608 -0.342130 -1.094355 -0.717002 -0.500985   \n",
       "2003 -0.909651 -0.043910 -0.520534 -0.342130 -1.094355  0.129479 -0.500985   \n",
       "\n",
       "             7  \n",
       "0    -0.584927  \n",
       "1    -0.676055  \n",
       "2    -0.721192  \n",
       "3    -0.680991  \n",
       "4    -0.587120  \n",
       "...        ...  \n",
       "1999 -0.655970  \n",
       "2000 -0.791541  \n",
       "2001 -0.726942  \n",
       "2002 -0.730465  \n",
       "2003 -0.791541  \n",
       "\n",
       "[2004 rows x 8 columns]"
      ]
     },
     "execution_count": 30,
     "metadata": {},
     "output_type": "execute_result"
    }
   ],
   "source": [
    "Z = scaler.fit_transform(X)\n",
    "Z = pd.DataFrame(Z)\n",
    "Z"
   ]
  },
  {
   "cell_type": "code",
   "execution_count": 31,
   "id": "pregnant-territory",
   "metadata": {
    "ExecuteTime": {
     "end_time": "2021-02-22T04:37:03.771750Z",
     "start_time": "2021-02-22T04:37:03.725784Z"
    }
   },
   "outputs": [],
   "source": [
    "corr = Z.corr() \n",
    "vals, vecs = np.linalg.eig(corr)\n",
    "# la descomposicion hecha con el modulo de algebra lineal de numpy no da los eigenvalores ordenados,\n",
    "# entonces, los ordenamos de forma descendente\n",
    "idx = vals.argsort()[::-1]\n",
    "eigvals = vals[idx]\n",
    "eigvecs = vecs[:,idx]"
   ]
  },
  {
   "cell_type": "code",
   "execution_count": 32,
   "id": "corporate-trigger",
   "metadata": {
    "ExecuteTime": {
     "end_time": "2021-02-22T04:37:04.773358Z",
     "start_time": "2021-02-22T04:37:04.750114Z"
    }
   },
   "outputs": [
    {
     "data": {
      "text/html": [
       "<div>\n",
       "<style scoped>\n",
       "    .dataframe tbody tr th:only-of-type {\n",
       "        vertical-align: middle;\n",
       "    }\n",
       "\n",
       "    .dataframe tbody tr th {\n",
       "        vertical-align: top;\n",
       "    }\n",
       "\n",
       "    .dataframe thead th {\n",
       "        text-align: right;\n",
       "    }\n",
       "</style>\n",
       "<table border=\"1\" class=\"dataframe\">\n",
       "  <thead>\n",
       "    <tr style=\"text-align: right;\">\n",
       "      <th></th>\n",
       "      <th>componente</th>\n",
       "      <th>sd</th>\n",
       "      <th>proporcion_varianza</th>\n",
       "      <th>varianza_acumulada</th>\n",
       "    </tr>\n",
       "  </thead>\n",
       "  <tbody>\n",
       "    <tr>\n",
       "      <th>0</th>\n",
       "      <td>1</td>\n",
       "      <td>1.722149</td>\n",
       "      <td>0.370725</td>\n",
       "      <td>0.370725</td>\n",
       "    </tr>\n",
       "    <tr>\n",
       "      <th>1</th>\n",
       "      <td>2</td>\n",
       "      <td>1.029644</td>\n",
       "      <td>0.132521</td>\n",
       "      <td>0.503246</td>\n",
       "    </tr>\n",
       "    <tr>\n",
       "      <th>2</th>\n",
       "      <td>3</td>\n",
       "      <td>0.969104</td>\n",
       "      <td>0.117395</td>\n",
       "      <td>0.620641</td>\n",
       "    </tr>\n",
       "    <tr>\n",
       "      <th>3</th>\n",
       "      <td>4</td>\n",
       "      <td>0.931698</td>\n",
       "      <td>0.108508</td>\n",
       "      <td>0.729148</td>\n",
       "    </tr>\n",
       "    <tr>\n",
       "      <th>4</th>\n",
       "      <td>5</td>\n",
       "      <td>0.856052</td>\n",
       "      <td>0.091603</td>\n",
       "      <td>0.820751</td>\n",
       "    </tr>\n",
       "    <tr>\n",
       "      <th>5</th>\n",
       "      <td>6</td>\n",
       "      <td>0.787927</td>\n",
       "      <td>0.077604</td>\n",
       "      <td>0.898355</td>\n",
       "    </tr>\n",
       "    <tr>\n",
       "      <th>6</th>\n",
       "      <td>7</td>\n",
       "      <td>0.758669</td>\n",
       "      <td>0.071947</td>\n",
       "      <td>0.970302</td>\n",
       "    </tr>\n",
       "    <tr>\n",
       "      <th>7</th>\n",
       "      <td>8</td>\n",
       "      <td>0.487423</td>\n",
       "      <td>0.029698</td>\n",
       "      <td>1.000000</td>\n",
       "    </tr>\n",
       "  </tbody>\n",
       "</table>\n",
       "</div>"
      ],
      "text/plain": [
       "   componente        sd  proporcion_varianza  varianza_acumulada\n",
       "0           1  1.722149             0.370725            0.370725\n",
       "1           2  1.029644             0.132521            0.503246\n",
       "2           3  0.969104             0.117395            0.620641\n",
       "3           4  0.931698             0.108508            0.729148\n",
       "4           5  0.856052             0.091603            0.820751\n",
       "5           6  0.787927             0.077604            0.898355\n",
       "6           7  0.758669             0.071947            0.970302\n",
       "7           8  0.487423             0.029698            1.000000"
      ]
     },
     "execution_count": 32,
     "metadata": {},
     "output_type": "execute_result"
    }
   ],
   "source": [
    "dat = {'componente':range(1,9),'sd':np.sqrt(eigvals), 'proporcion_varianza':eigvals/sum(eigvals), \n",
    "       'varianza_acumulada':np.cumsum(eigvals/sum(eigvals))}\n",
    "stds = pd.DataFrame(dat)\n",
    "stds"
   ]
  },
  {
   "cell_type": "code",
   "execution_count": 33,
   "id": "undefined-parish",
   "metadata": {
    "ExecuteTime": {
     "end_time": "2021-02-22T04:37:05.942264Z",
     "start_time": "2021-02-22T04:37:05.600855Z"
    }
   },
   "outputs": [
    {
     "data": {
      "text/plain": [
       "Text(0.5, 1.0, 'Gráfica de codo')"
      ]
     },
     "execution_count": 33,
     "metadata": {},
     "output_type": "execute_result"
    },
    {
     "data": {
      "image/png": "[encoded data removed]",
      "text/plain": [
       "<Figure size 576x576 with 1 Axes>"
      ]
     },
     "metadata": {
      "needs_background": "light"
     },
     "output_type": "display_data"
    }
   ],
   "source": [
    "plt.figure(figsize=(8, 8))\n",
    "plt.plot(np.sqrt(eigvals))\n",
    "plt.title('Gráfica de codo', fontsize=15)"
   ]
  },
  {
   "cell_type": "markdown",
   "id": "concerned-sally",
   "metadata": {
    "ExecuteTime": {
     "end_time": "2021-02-22T04:08:24.375344Z",
     "start_time": "2021-02-22T04:08:24.365534Z"
    }
   },
   "source": [
    "**Tomando la primer componente (por ser el de mayor varianza), mostramos las variables que más \n",
    "afectan al índice de marginación**"
   ]
  },
  {
   "cell_type": "code",
   "execution_count": 34,
   "id": "every-vacuum",
   "metadata": {
    "ExecuteTime": {
     "end_time": "2021-02-22T04:37:07.557219Z",
     "start_time": "2021-02-22T04:37:07.530271Z"
    }
   },
   "outputs": [
    {
     "data": {
      "text/html": [
       "<div>\n",
       "<style scoped>\n",
       "    .dataframe tbody tr th:only-of-type {\n",
       "        vertical-align: middle;\n",
       "    }\n",
       "\n",
       "    .dataframe tbody tr th {\n",
       "        vertical-align: top;\n",
       "    }\n",
       "\n",
       "    .dataframe thead th {\n",
       "        text-align: right;\n",
       "    }\n",
       "</style>\n",
       "<table border=\"1\" class=\"dataframe\">\n",
       "  <thead>\n",
       "    <tr style=\"text-align: right;\">\n",
       "      <th></th>\n",
       "      <th>coef_comp1</th>\n",
       "      <th>ponderador_de_lectura</th>\n",
       "    </tr>\n",
       "  </thead>\n",
       "  <tbody>\n",
       "    <tr>\n",
       "      <th>pob_15_analf</th>\n",
       "      <td>0.288062</td>\n",
       "      <td>0.854333</td>\n",
       "    </tr>\n",
       "    <tr>\n",
       "      <th>pob_15_sin_primaria</th>\n",
       "      <td>-0.212710</td>\n",
       "      <td>-0.630853</td>\n",
       "    </tr>\n",
       "    <tr>\n",
       "      <th>viviendas_sin_excusado</th>\n",
       "      <td>-0.658618</td>\n",
       "      <td>-1.953327</td>\n",
       "    </tr>\n",
       "    <tr>\n",
       "      <th>viviendas_sin_energia</th>\n",
       "      <td>-0.166441</td>\n",
       "      <td>-0.493631</td>\n",
       "    </tr>\n",
       "    <tr>\n",
       "      <th>viv_sin_agua_entubada</th>\n",
       "      <td>-0.498474</td>\n",
       "      <td>-1.478374</td>\n",
       "    </tr>\n",
       "    <tr>\n",
       "      <th>ocupantes_por_cuarto</th>\n",
       "      <td>-0.027445</td>\n",
       "      <td>-0.081395</td>\n",
       "    </tr>\n",
       "    <tr>\n",
       "      <th>viv_con_piso_de_tierra</th>\n",
       "      <td>0.398494</td>\n",
       "      <td>1.181853</td>\n",
       "    </tr>\n",
       "    <tr>\n",
       "      <th>viv_sin_refri</th>\n",
       "      <td>0.047613</td>\n",
       "      <td>0.141209</td>\n",
       "    </tr>\n",
       "  </tbody>\n",
       "</table>\n",
       "</div>"
      ],
      "text/plain": [
       "                        coef_comp1  ponderador_de_lectura\n",
       "pob_15_analf              0.288062               0.854333\n",
       "pob_15_sin_primaria      -0.212710              -0.630853\n",
       "viviendas_sin_excusado   -0.658618              -1.953327\n",
       "viviendas_sin_energia    -0.166441              -0.493631\n",
       "viv_sin_agua_entubada    -0.498474              -1.478374\n",
       "ocupantes_por_cuarto     -0.027445              -0.081395\n",
       "viv_con_piso_de_tierra    0.398494               1.181853\n",
       "viv_sin_refri             0.047613               0.141209"
      ]
     },
     "execution_count": 34,
     "metadata": {},
     "output_type": "execute_result"
    }
   ],
   "source": [
    "info_comp1 = pd.DataFrame({'coef_comp1':eigvecs[0],'ponderador_de_lectura':eigvecs[0]*eigvals[0]}, \n",
    "                          index= ['pob_15_analf','pob_15_sin_primaria','viviendas_sin_excusado', \n",
    "                                 'viviendas_sin_energia','viv_sin_agua_entubada','ocupantes_por_cuarto',\n",
    "                                 'viv_con_piso_de_tierra','viv_sin_refri'])\n",
    "info_comp1"
   ]
  },
  {
   "cell_type": "markdown",
   "id": "opposite-donor",
   "metadata": {},
   "source": [
    "## Proyectamos sobre la primera componente:"
   ]
  },
  {
   "cell_type": "code",
   "execution_count": 59,
   "id": "noticed-cookie",
   "metadata": {
    "ExecuteTime": {
     "end_time": "2021-02-22T04:45:28.926225Z",
     "start_time": "2021-02-22T04:45:28.913059Z"
    }
   },
   "outputs": [
    {
     "data": {
      "text/plain": [
       "99.99999999999999"
      ]
     },
     "execution_count": 59,
     "metadata": {},
     "output_type": "execute_result"
    }
   ],
   "source": [
    "proy = np.dot(Z,eigvecs[0])\n",
    "proy[:5]\n",
    "proy_procentaje = 100*(proy-np.min(proy))/(np.max(proy)-np.min(proy))#normalizamos\n"
   ]
  },
  {
   "cell_type": "code",
   "execution_count": null,
   "id": "southern-above",
   "metadata": {},
   "outputs": [],
   "source": []
  }
 ],
 "metadata": {
  "kernelspec": {
   "display_name": "Python [conda env:DS] *",
   "language": "python",
   "name": "conda-env-DS-py"
  },
  "language_info": {
   "codemirror_mode": {
    "name": "ipython",
    "version": 3
   },
   "file_extension": ".py",
   "mimetype": "text/x-python",
   "name": "python",
   "nbconvert_exporter": "python",
   "pygments_lexer": "ipython3",
   "version": "3.8.5"
  },
  "latex_envs": {
   "LaTeX_envs_menu_present": true,
   "autoclose": false,
   "autocomplete": true,
   "bibliofile": "biblio.bib",
   "cite_by": "apalike",
   "current_citInitial": 1,
   "eqLabelWithNumbers": true,
   "eqNumInitial": 1,
   "hotkeys": {
    "equation": "Ctrl-E",
    "itemize": "Ctrl-I"
   },
   "labels_anchors": false,
   "latex_user_defs": false,
   "report_style_numbering": false,
   "user_envs_cfg": false
  },
  "toc": {
   "base_numbering": 1,
   "nav_menu": {},
   "number_sections": true,
   "sideBar": true,
   "skip_h1_title": false,
   "title_cell": "Table of Contents",
   "title_sidebar": "Contents",
   "toc_cell": false,
   "toc_position": {},
   "toc_section_display": true,
   "toc_window_display": false
  }
 },
 "nbformat": 4,
 "nbformat_minor": 5
}
